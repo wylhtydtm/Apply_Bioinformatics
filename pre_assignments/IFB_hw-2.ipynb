{
 "cells": [
  {
   "cell_type": "markdown",
   "id": "068d534a-2d69-4640-aaee-43f8a1128e62",
   "metadata": {},
   "source": [
    "# 1. Assignment setup"
   ]
  },
  {
   "cell_type": "code",
   "execution_count": 6,
   "id": "ec88e586-4149-47b6-abae-c3e5734b610d",
   "metadata": {},
   "outputs": [],
   "source": [
    "cd sars2copath/analyses"
   ]
  },
  {
   "cell_type": "code",
   "execution_count": 7,
   "id": "dce5d2da-1375-4e6f-8ec8-29481b302ab7",
   "metadata": {},
   "outputs": [
    {
     "name": "stdout",
     "output_type": "stream",
     "text": [
      "blastn\t\t     outputs\n",
      "blastn_para\t     R_studio_abundances_heatmaps.nb.html\n",
      "bowtie\t\t     R_studio_abundances_heatmaps.Rmd\n",
      "data\t\t     sample_collab.db\n",
      "Day1afternoon.ipynb  sample_collab_db_schema.sql\n",
      "history.txt\t     Untitled.ipynb\n",
      "kraken2\t\t     zliu_flash2.log\n",
      "krona\t\t     zliu_run_accessions.txt\n"
     ]
    }
   ],
   "source": [
    "ls"
   ]
  },
  {
   "cell_type": "code",
   "execution_count": 8,
   "id": "c6f8af60-f236-4322-bff5-4e97ff1b7648",
   "metadata": {},
   "outputs": [],
   "source": [
    "cd ../scripts"
   ]
  },
  {
   "cell_type": "code",
   "execution_count": 9,
   "id": "6056e861-54dd-4a87-8081-591a59697687",
   "metadata": {},
   "outputs": [
    {
     "name": "stdout",
     "output_type": "stream",
     "text": [
      "bash_create_sample_collab_sqlite_db.ipynb  kraken2_sbatch_array.sh\n",
      "blastn_parallel.sh\t\t\t   kreport2krona_sbatch_array_1.sh\n",
      "blastn_sbatch_array.sh\t\t\t   kreport2krona_sbatch_array.sh\n",
      "generic_sbatch_array.sh\t\t\t   outputs\n",
      "kraken2_bracken_sbatch_array.sh\t\t   ziwei_read_QC.sh\n"
     ]
    }
   ],
   "source": [
    "ls"
   ]
  },
  {
   "cell_type": "raw",
   "id": "940ab8b2-de0b-473e-b168-9df5a97b6d9d",
   "metadata": {},
   "source": [
    "vim ziwei_read_QC.sh"
   ]
  },
  {
   "cell_type": "raw",
   "id": "f39ea3ee-18b7-4b82-a3ad-5ffdf0ff127a",
   "metadata": {
    "tags": []
   },
   "source": [
    "### Now to make your script executable, do:"
   ]
  },
  {
   "cell_type": "markdown",
   "id": "82077116-dfc4-473b-82f4-ca2622d08859",
   "metadata": {},
   "source": [
    "chmod a+x ziwei_read_QC.sh "
   ]
  },
  {
   "cell_type": "markdown",
   "id": "7319054d-2030-435b-a1b9-8c968806a993",
   "metadata": {},
   "source": [
    "### To execute your script, just type:"
   ]
  },
  {
   "cell_type": "raw",
   "id": "0afd879e-61b8-41f3-85e1-dcfe5884e7a5",
   "metadata": {},
   "source": [
    "ziwei_read_QC.sh"
   ]
  },
  {
   "cell_type": "markdown",
   "id": "6d624c0c-1f4c-4e8d-9bd6-08bbe93d6475",
   "metadata": {},
   "source": [
    "# 2. Programmatic access to NCBI SRA"
   ]
  },
  {
   "cell_type": "markdown",
   "id": "23d6412b-eaba-415c-a2a9-1a28819ea4da",
   "metadata": {},
   "source": [
    "###Firstly, export your list of sequencing run identifiers in a file which we will use to download the corresponding FASTQ files using sqlite3:"
   ]
  },
  {
   "cell_type": "code",
   "execution_count": 2,
   "id": "43579e04-7085-478b-9f72-8afb701c3311",
   "metadata": {},
   "outputs": [],
   "source": [
    "sqlite3 -batch /shared/projects/form_2022_19/pascal/central_database/sample_collab.db \\\n",
    "\"select run_accession from (select spl.run_accession from sample_annot spl left join sample2bioinformatician s2b using(patient_code) where username='zliu');\" -noheader -csv > zliu_run_accessions.text "
   ]
  },
  {
   "cell_type": "code",
   "execution_count": 5,
   "id": "8817beec-b609-43c4-808e-e341727a1b49",
   "metadata": {},
   "outputs": [
    {
     "name": "stdout",
     "output_type": "stream",
     "text": [
      "bash: cd: sars2copath/analyses: No such file or directory\n",
      "blastn\t\t     outputs\n",
      "blastn_para\t     R_studio_abundances_heatmaps.nb.html\n",
      "bowtie\t\t     R_studio_abundances_heatmaps.Rmd\n",
      "data\t\t     sample_collab.db\n",
      "Day1afternoon.ipynb  sample_collab_db_schema.sql\n",
      "history.txt\t     Untitled.ipynb\n",
      "kraken2\t\t     zliu_flash2.log\n",
      "krona\t\t     zliu_run_accessions.txt\n"
     ]
    }
   ],
   "source": [
    "cd sars2copath/analyses\n",
    "ls"
   ]
  },
  {
   "cell_type": "raw",
   "id": "c3760839-cfc0-4c98-a7bc-d31a097e9041",
   "metadata": {},
   "source": [
    "vim zliu_run_accessions.txt"
   ]
  },
  {
   "cell_type": "code",
   "execution_count": 2,
   "id": "4953f5c5-dc6b-48cb-9e5e-bd6f750db87b",
   "metadata": {},
   "outputs": [],
   "source": [
    "cd sars2copath/data"
   ]
  },
  {
   "cell_type": "code",
   "execution_count": 3,
   "id": "92ba5b4b-2983-4983-bdf8-3004ec3f0a5b",
   "metadata": {},
   "outputs": [
    {
     "name": "stdout",
     "output_type": "stream",
     "text": [
      "blast_db      blast_db.nto\t\t\t   sample_overviews 3.csv\n",
      "blast_db.ndb  bowtie2_DBs\t\t\t   sample_overviews 5.csv\n",
      "blast_db.nhr  ct_values_covid19_metagenomics.xlsx  slurm.23319766.1.er\n",
      "blast_db.nin  filereport_read_run_PRJEB47870.tsv   sra_fastq\n",
      "blast_db.not  merged_pairs\t\t\t   SraRunTable.csv\n",
      "blast_db.nsq  para_computing\t\t\t   subset\n",
      "blast_db.ntf  reference_seqs\n"
     ]
    }
   ],
   "source": [
    "ls #mkdir sra_fastq -- create a new directory to store raw fastq file form NCBI "
   ]
  },
  {
   "cell_type": "raw",
   "id": "13579c40-d1f9-4deb-8e26-6186f2d23b13",
   "metadata": {},
   "source": [
    "# check out if the sra-tools suite is made available at the IFB\n",
    "module avail -C sra\n",
    "module whatis sra-tools\n",
    "\n",
    "[zliu@clust-slurm-client analyses]$ module avail -C sra\n",
    "--------------------------------------- /shared/software/modulefiles ---------------------------------------\n",
    "sra-tools/2.10.0  sra-tools/2.10.3  transrate/1.0.3  \n",
    "[zliu@clust-slurm-client analyses]$ module whatis sra-tools\n",
    "--------------------------------------- /shared/software/modulefiles ---------------------------------------\n",
    "    sra-tools/2.10.0: Origin: Conda packages\n",
    "    sra-tools/2.10.0: Description: SRA Toolkit and SDK from NCBI\n",
    "    sra-tools/2.10.3: Origin: Conda packages\n",
    "    sra-tools/2.10.3: Description: SRA Toolkit and SDK from NCBI"
   ]
  },
  {
   "cell_type": "raw",
   "id": "2a4d92ce-6568-4c88-92eb-b314d5a6867d",
   "metadata": {},
   "source": [
    "#  load module sra-tools\n",
    "# fasq-dump command which downloads FASTQ files with supplied run IDS"
   ]
  },
  {
   "cell_type": "raw",
   "id": "ba3ceb5d-ff5f-4773-973c-f028c2fe1647",
   "metadata": {},
   "source": [
    "[zliu@clust-slurm-client analyses]$ module load sra-tools\n",
    "[zliu@clust-slurm-client analyses]$ fastq-dump -h\n",
    "\n",
    "Usage: fastq-dump [ options ] [ accessions(s)... ]\n",
    "\n",
    "Parameters:\n",
    "\n",
    "  accessions(s)                    list of accessions to process\n",
    "\n",
    "\n",
    "Options:\n",
    "\n",
    "  -A|--accession <accession>       Replaces accession derived from <path> in\n",
    "                                     filename(s) and deflines (only for\n",
    "                                     single table dump)\n",
    "     --table <table-name>          Table name within cSRA object, default is\n",
    "                                     \"SEQUENCE\"\n",
    "     --split-spot                  Split spots into individual reads\n",
    "  -N|--minSpotId <rowid>           Minimum spot id\n",
    "  -X|--maxSpotId <rowid>           Maximum spot id\n",
    "     --spot-groups <[list]>[,...]  Filter by SPOT_GROUP (member): name[,...]\n",
    "  -W|--clip                        Remove adapter sequences from reads\n",
    "  -M|--minReadLen <len>            Filter by sequence length >= <len>\n",
    "  -R|--read-filter <filter>        Split into files by READ_FILTER value\n",
    "                                     [split], optionally filter by value:\n",
    "                                     [pass|reject|criteria|redacted]\n",
    "  -E|--qual-filter                 Filter used in early 1000 Genomes data: no\n",
    "                                     sequences starting or ending with >= 10N\n",
    "     --qual-filter-1               Filter used in current 1000 Genomes data\n",
    "     --aligned                     Dump only aligned sequences\n",
    "     --unaligned                   Dump only unaligned sequences\n",
    "     --aligned-region <name[:from-to]>\n",
    "                                   Filter by position on genome. Name can\n",
    "                                     eiter by accession.version (ex:\n",
    "                                     NC_000001.10) or file specific name (ex:\n",
    "                                     \"chr1\" or \"1\". \"from\" and \"to\" are\n",
    "                                     1-based coordinates\n",
    "     --matepair_distance <from-to|unknown>\n",
    "                                   Filter by distance between matepairs. Use\n",
    "                                     \"unknown\" to find matepairs split\n",
    "                                     between the references. Use from-to to\n",
    "                                     limit matepair distance on the same\n",
    "                                     reference\n",
    "     --skip-technical              Dump only biological reads\n",
    "  -O|--outdir <path>               Output directory, default is working\n",
    "                                     directory '.'\n",
    "  -Z|--stdout                      Output to stdout, all split data become\n",
    "                                     joined into single stream\n",
    "     --gzip                        Compress output using gzip: deprecated,\n",
    "                                     not recommended\n",
    "     --bzip2                       Compress output using bzip2: deprecated,\n",
    "                                     not recommended\n",
    "     --split-files                 Write reads into separate files. Read\n",
    "                                     number will be suffixed to the file\n",
    "                                     name. NOTE! The `--split-3` option is\n",
    "                                     recommended. In cases where not all\n",
    "                                     spots have the same number of reads,\n",
    "                                     this option will produce files that WILL\n",
    "                                     CAUSE ERRORS in most programs which\n",
    "                                     process split pair fastq files.\n",
    "     --split-e                     3-way splitting for mate-pairs. For each\n",
    "                                     spot, if there are two biological reads\n",
    "                                     satisfying filter conditions, the first\n",
    "                                     is placed in the `*_1.fastq` file, and\n",
    "                                     the second is placed in the `*_2.fastq`\n",
    "                                     file. If there is only one biological\n",
    "                                     read satisfying the filter conditions,\n",
    "                                     it is placed in the `*.fastq` file.All\n",
    "                                     other reads in the spot are ignored.\n",
    "  -G|--spot-group                  Split into files by SPOT_GROUP (member\n",
    "                                     name)\n",
    "  -T|--group-in-dirs               Split into subdirectories instead of files\n",
    "  -K|--keep-empty-files            Do not delete empty files\n",
    "  -C|--dumpcs <cskey>              Formats sequence using color space\n",
    "                                     (default for SOLiD), \"cskey\" may be\n",
    "                                     specified for translation or else\n",
    "                                     specify \"dflt\" to use the default value\n",
    "  -B|--dumpbase                    Formats sequence using base space (default\n",
    "                                     for other than SOLiD).\n",
    "  -Q|--offset <integer             Offset to use for quality conversion,\n",
    "                                     default is 33\n",
    "     --fasta <line-width>          FASTA only, no qualities, with can be\n",
    "                                     \"default\" or \"0\" for no wrapping\n",
    "     --suppress-qual-for-cskey     suppress quality-value for cskey\n",
    "  -F|--origfmt                     Defline contains only original sequence\n",
    "                                     name\n",
    "  -I|--readids                     Append read id after spot id as\n",
    "                                     'accession.spot.readid' on defline\n",
    "     --helicos                     Helicos style defline\n",
    "     --defline-seq <fmt>           Defline format specification for sequence.\n",
    "     --defline-qual <fmt>          Defline format specification for quality.\n",
    "                                     <fmt> is string of characters and/or\n",
    "                                     variables. The variables can be one of:\n",
    "                                     $ac - accession, $si spot id, $sn spot\n",
    "                                     name, $sg spot group (barcode), $sl spot\n",
    "                                     length in bases, $ri read number, $rn\n",
    "                                     read name, $rl read length in bases.\n",
    "                                     '[]' could be used for an optional\n",
    "                                     output: if all vars in [] yield empty\n",
    "                                     values whole group is not printed. Empty\n",
    "                                     value is empty string or for numeric\n",
    "                                     variables. Ex: @$sn[_$rn]/$ri '_$rn' is\n",
    "                                     omitted if name is empty\n",
    "     --ngc <path>                  <path> to ngc file\n",
    "     --perm <path>                 <path> to permission file\n",
    "     --location <location>         location in cloud\n",
    "     --cart <path>                 <path> to cart file\n",
    "     --disable-multithreading      disable multithreading\n",
    "  -V|--version                     Display the version of the program\n",
    "  -L|--log-level <level>           Logging level as number or enum string.\n",
    "                                     One of\n",
    "                                     (fatal|sys|int|err|warn|info|debug) or\n",
    "                                     (0-6) Current/default is warn\n",
    "     --option-file file            Read more options and parameters from the\n",
    "                                     file.\n",
    "  -h|--help                        print this message\n",
    "\n",
    "\"fastq-dump\" version 2.10.3\n"
   ]
  },
  {
   "cell_type": "raw",
   "id": "c8bf1571-00f2-45f7-a974-7932d4516c75",
   "metadata": {},
   "source": [
    "fastq-dump  -X 10 --readids --gzip --outdir ../data/sra_fastq/ --disable-multithreading --split-e ERR6913326"
   ]
  },
  {
   "cell_type": "markdown",
   "id": "fc6cf497-c32c-4f6a-b38f-adcb40e8048b",
   "metadata": {},
   "source": [
    "To download all 8 sequencing run ID\n",
    "Use xargs to convert IDs into a concatenation of 8 arguments which added at the end of the fastq-dump command \n",
    "because the usual invocation of xargs involves a \"pipe\" (as in cat identifiers.txt | xargs fastq-dump) you have to be careful not to include the pipe after srun, so you can use either one of the two following solutions:"
   ]
  },
  {
   "cell_type": "raw",
   "id": "076d3592-e7d5-41ff-bbf1-52e96371d921",
   "metadata": {},
   "source": [
    "cat zliu_run_accessions.txt | srun --cpus-per-task=1 --time=00:30:00 xargs fastq-dump --readids --gzip \\\n",
    "--outdir ../data/sra_fastq/ --disable-multithreading --split-e "
   ]
  },
  {
   "cell_type": "raw",
   "id": "5ae74842-b253-4fee-b5cd-5351190c74f4",
   "metadata": {},
   "source": [
    "srun --cpus-per-task=8 --time=00:30:00 xargs -a zliu_run_accessions.txt fastq-dump --readids --gzip \\\n",
    "--outdir ../data/sra_fastq/ --disable-multithreading --split-e  "
   ]
  },
  {
   "cell_type": "raw",
   "id": "fa7e06c5-0908-42b1-88d9-53fbdbf7fd0d",
   "metadata": {},
   "source": [
    "squeue -u zliu # to check the running jobs\n",
    "\n",
    "# to check the resources reservations, \n",
    "# sacct --format=JobID,JobName%20,ReqCPUS,ReqMem,Timelimit,State,ExitCode,Start,elapsed,MaxRSS,NodeList,Account%15 \n",
    "# we should have twice the number of fastq files compared to the number of accession numbers, if you have more it may indicate some runs had \"singleton\" reads (missing read in a paired end run)\n",
    "# unless stated otherwise, never uncompress the files on disk (to save space), use zcat to uncompress on the fly, or use tools that are compressed file compatible (most bioinformatics raw FASTQ software are, because of the storage challenge these data often represent)"
   ]
  },
  {
   "cell_type": "code",
   "execution_count": 7,
   "id": "a0c12742-be50-424f-a04f-4a706164cb79",
   "metadata": {},
   "outputs": [],
   "source": [
    "cd sra_fastq"
   ]
  },
  {
   "cell_type": "code",
   "execution_count": 8,
   "id": "d1da1cbd-ef31-4bd1-adff-8e308bc49215",
   "metadata": {},
   "outputs": [
    {
     "name": "stdout",
     "output_type": "stream",
     "text": [
      "ERR6913297_1.fastq.gz  ERR6913300_1.fastq.gz  ERR6913328_1.fastq.gz\n",
      "ERR6913297_2.fastq.gz  ERR6913300_2.fastq.gz  ERR6913328_2.fastq.gz\n",
      "ERR6913298_1.fastq.gz  ERR6913326_1.fastq.gz  ERR6913329_1.fastq.gz\n",
      "ERR6913298_2.fastq.gz  ERR6913326_2.fastq.gz  ERR6913329_2.fastq.gz\n",
      "ERR6913299_1.fastq.gz  ERR6913327_1.fastq.gz  fastqc\n",
      "ERR6913299_2.fastq.gz  ERR6913327_2.fastq.gz\n"
     ]
    }
   ],
   "source": [
    "ls"
   ]
  },
  {
   "cell_type": "code",
   "execution_count": 9,
   "id": "d536e28e-c415-4019-aed1-50ff4c4ab950",
   "metadata": {},
   "outputs": [
    {
     "name": "stdout",
     "output_type": "stream",
     "text": [
      "\n"
     ]
    }
   ],
   "source": [
    "wc -l ERR6913297_1.fastq.gz\n",
    "# If you’re absolutely positive your FASTQ file uses four lines per sequence entry, you can estimate the number of sequences by estimating the number of lines with\n",
    "# and dividing by four"
   ]
  },
  {
   "cell_type": "markdown",
   "id": "8299dc23-d971-4a2b-a685-1a66c6130c2a",
   "metadata": {},
   "source": [
    "### Manipulating raw sequencing FASTQ file with seqkit"
   ]
  },
  {
   "cell_type": "code",
   "execution_count": 1,
   "id": "c42e3899-741b-4968-9f4b-acbd21bcc9e9",
   "metadata": {},
   "outputs": [],
   "source": [
    "module load seqkit"
   ]
  },
  {
   "cell_type": "code",
   "execution_count": 2,
   "id": "c2aa516c-95d4-4fed-a9d6-fc64b012a7da",
   "metadata": {
    "collapsed": true,
    "jupyter": {
     "outputs_hidden": true
    },
    "tags": []
   },
   "outputs": [
    {
     "name": "stdout",
     "output_type": "stream",
     "text": [
      "SeqKit -- a cross-platform and ultrafast toolkit for FASTA/Q file manipulation\n",
      "\n",
      "Version: 2.1.0\n",
      "\n",
      "Author: Wei Shen <shenwei356@gmail.com>\n",
      "\n",
      "Documents  : http://bioinf.shenwei.me/seqkit\n",
      "Source code: https://github.com/shenwei356/seqkit\n",
      "Please cite: https://doi.org/10.1371/journal.pone.0163962\n",
      "\n",
      "\n",
      "Seqkit utlizies the pgzip (https://github.com/klauspost/pgzip) package to\n",
      "read and write gzip file, and the outputted gzip file would be slighty\n",
      "larger than files generated by GNU gzip.\n",
      "\n",
      "Seqkit writes gzip files very fast, much faster than the multi-threaded pigz,\n",
      "therefore there's no need to pipe the result to gzip/pigz.\n",
      "\n",
      "Usage:\n",
      "  seqkit [command]\n",
      "\n",
      "Available Commands:\n",
      "  amplicon        extract amplicon (or specific region around it) via primer(s)\n",
      "  bam             monitoring and online histograms of BAM record features\n",
      "  common          find common sequences of multiple files by id/name/sequence\n",
      "  concat          concatenate sequences with same ID from multiple files\n",
      "  convert         convert FASTQ quality encoding between Sanger, Solexa and Illumina\n",
      "  duplicate       duplicate sequences N times\n",
      "  faidx           create FASTA index file and extract subsequence\n",
      "  fish            look for short sequences in larger sequences using local alignment\n",
      "  fq2fa           convert FASTQ to FASTA\n",
      "  fx2tab          convert FASTA/Q to tabular format (and length, GC content, average quality...)\n",
      "  genautocomplete generate shell autocompletion script (bash|zsh|fish|powershell)\n",
      "  grep            search sequences by ID/name/sequence/sequence motifs, mismatch allowed\n",
      "  head            print first N FASTA/Q records\n",
      "  head-genome     print sequences of the first genome with common prefixes in name\n",
      "  locate          locate subsequences/motifs, mismatch allowed\n",
      "  mutate          edit sequence (point mutation, insertion, deletion)\n",
      "  pair            match up paired-end reads from two fastq files\n",
      "  range           print FASTA/Q records in a range (start:end)\n",
      "  rename          rename duplicated IDs\n",
      "  replace         replace name/sequence by regular expression\n",
      "  restart         reset start position for circular genome\n",
      "  rmdup           remove duplicated sequences by ID/name/sequence\n",
      "  sample          sample sequences by number or proportion\n",
      "  sana            sanitize broken single line FASTQ files\n",
      "  scat            real time recursive concatenation and streaming of fastx files\n",
      "  seq             transform sequences (extract ID, filter by length, remove gaps...)\n",
      "  shuffle         shuffle sequences\n",
      "  sliding         extract subsequences in sliding windows\n",
      "  sort            sort sequences by id/name/sequence/length\n",
      "  split           split sequences into files by id/seq region/size/parts (mainly for FASTA)\n",
      "  split2          split sequences into files by size/parts (FASTA, PE/SE FASTQ)\n",
      "  stats           simple statistics of FASTA/Q files\n",
      "  subseq          get subsequences by region/gtf/bed, including flanking sequences\n",
      "  tab2fx          convert tabular format to FASTA/Q format\n",
      "  translate       translate DNA/RNA to protein sequence (supporting ambiguous bases)\n",
      "  version         print version information and check for update\n",
      "  watch           monitoring and online histograms of sequence features\n",
      "\n",
      "Flags:\n",
      "      --alphabet-guess-seq-length int   length of sequence prefix of the first FASTA record based on which seqkit guesses the sequence type (0 for whole seq) (default 10000)\n",
      "  -h, --help                            help for seqkit\n",
      "      --id-ncbi                         FASTA head is NCBI-style, e.g. >gi|110645304|ref|NC_002516.2| Pseud...\n",
      "      --id-regexp string                regular expression for parsing ID (default \"^(\\\\S+)\\\\s?\")\n",
      "      --infile-list string              file of input files list (one file per line), if given, they are appended to files from cli arguments\n",
      "  -w, --line-width int                  line width when outputting FASTA format (0 for no wrap) (default 60)\n",
      "  -o, --out-file string                 out file (\"-\" for stdout, suffix .gz for gzipped out) (default \"-\")\n",
      "      --quiet                           be quiet and do not show extra information\n",
      "  -t, --seq-type string                 sequence type (dna|rna|protein|unlimit|auto) (for auto, it automatically detect by the first sequence) (default \"auto\")\n",
      "  -j, --threads int                     number of CPUs. can also set with environment variable SEQKIT_THREADS) (default 1)\n",
      "\n",
      "Use \"seqkit [command] --help\" for more information about a command.\n"
     ]
    }
   ],
   "source": [
    "seqkit -h"
   ]
  },
  {
   "cell_type": "raw",
   "id": "19f8d7a9-ca53-4c22-82d9-30f114eb3772",
   "metadata": {},
   "source": [
    "[zliu@clust-slurm-client sra_fastq]$ seqkit stats *.fastq.gz\n",
    "file                   format  type   num_seqs      sum_len  min_len  avg_len  max_len\n",
    "ERR6913297_1.fastq.gz  FASTQ   DNA   1,066,925  117,984,632       35    110.6      151\n",
    "ERR6913297_2.fastq.gz  FASTQ   DNA   1,066,925  117,981,805       35    110.6      151\n",
    "ERR6913298_1.fastq.gz  FASTQ   DNA     182,068   21,082,957       35    115.8      151\n",
    "ERR6913298_2.fastq.gz  FASTQ   DNA     182,068   21,081,478       35    115.8      151\n",
    "ERR6913299_1.fastq.gz  FASTQ   DNA     350,883   40,922,924       35    116.6      151\n",
    "ERR6913299_2.fastq.gz  FASTQ   DNA     350,883   40,920,823       35    116.6      151\n",
    "ERR6913300_1.fastq.gz  FASTQ   DNA     850,062  107,176,925       35    126.1      151\n",
    "ERR6913300_2.fastq.gz  FASTQ   DNA     850,062  107,181,120       35    126.1      151\n",
    "ERR6913326_1.fastq.gz  FASTQ   DNA   1,174,767  138,899,434       35    118.2      151\n",
    "ERR6913326_2.fastq.gz  FASTQ   DNA   1,174,767  138,874,985       35    118.2      151\n",
    "ERR6913327_1.fastq.gz  FASTQ   DNA     559,873   69,712,620       35    124.5      151\n",
    "ERR6913327_2.fastq.gz  FASTQ   DNA     559,873   69,709,904       35    124.5      151\n",
    "ERR6913328_1.fastq.gz  FASTQ   DNA     557,604   47,869,248       35     85.8      151\n",
    "ERR6913328_2.fastq.gz  FASTQ   DNA     557,604   47,863,788       35     85.8      151\n",
    "ERR6913329_1.fastq.gz  FASTQ   DNA     646,807   64,293,795       35     99.4      151\n",
    "ERR6913329_2.fastq.gz  FASTQ   DNA     646,807   64,295,650       35     99.4      151"
   ]
  },
  {
   "cell_type": "raw",
   "id": "734a1b99-4c3b-49c0-8d24-434360c784f1",
   "metadata": {},
   "source": [
    "[zliu@clust-slurm-client sra_fastq]$ seqkit stats *.fastq.gz\n",
    "file                   format  type   num_seqs      sum_len  min_len  avg_len  max_len\n",
    "ERR6913297_1.fastq.gz  FASTQ   DNA   1,066,925  117,984,632       35    110.6      151\n",
    "ERR6913297_2.fastq.gz  FASTQ   DNA   1,066,925  117,981,805       35    110.6      151\n",
    "ERR6913298_1.fastq.gz  FASTQ   DNA     182,068   21,082,957       35    115.8      151\n",
    "ERR6913298_2.fastq.gz  FASTQ   DNA     182,068   21,081,478       35    115.8      151\n",
    "ERR6913299_1.fastq.gz  FASTQ   DNA     350,883   40,922,924       35    116.6      151\n",
    "ERR6913299_2.fastq.gz  FASTQ   DNA     350,883   40,920,823       35    116.6      151\n",
    "ERR6913300_1.fastq.gz  FASTQ   DNA     850,062  107,176,925       35    126.1      151\n",
    "ERR6913300_2.fastq.gz  FASTQ   DNA     850,062  107,181,120       35    126.1      151\n",
    "ERR6913326_1.fastq.gz  FASTQ   DNA   1,174,767  138,899,434       35    118.2      151\n",
    "ERR6913326_2.fastq.gz  FASTQ   DNA   1,174,767  138,874,985       35    118.2      151\n",
    "ERR6913327_1.fastq.gz  FASTQ   DNA     559,873   69,712,620       35    124.5      151\n",
    "ERR6913327_2.fastq.gz  FASTQ   DNA     559,873   69,709,904       35    124.5      151\n",
    "ERR6913328_1.fastq.gz  FASTQ   DNA     557,604   47,869,248       35     85.8      151\n",
    "ERR6913328_2.fastq.gz  FASTQ   DNA     557,604   47,863,788       35     85.8      151\n",
    "ERR6913329_1.fastq.gz  FASTQ   DNA     646,807   64,293,795       35     99.4      151\n",
    "ERR6913329_2.fastq.gz  FASTQ   DNA     646,807   64,295,650       35     99.4      151"
   ]
  },
  {
   "cell_type": "markdown",
   "id": "fbbc30db-4247-45fb-b46e-616797f92bbd",
   "metadata": {},
   "source": [
    "### Quality control the raw sequencing FASTQ files with fastQC"
   ]
  },
  {
   "cell_type": "code",
   "execution_count": 2,
   "id": "10f7720c-32ef-47b7-b96f-2d3c60c7e97f",
   "metadata": {},
   "outputs": [],
   "source": [
    "module load fastqc"
   ]
  },
  {
   "cell_type": "raw",
   "id": "e00b13f4-f44e-4fa1-8021-29c644deaa34",
   "metadata": {},
   "source": [
    "fastqc --outdir fastqc --threads 4 --noextract ../data/sra_fastq/ERR6913297_1.fastq.gz ../data/sra_fastq/ERR6913297_2.fastq.gz"
   ]
  },
  {
   "cell_type": "markdown",
   "id": "bf063da3-5b07-497d-9b80-0ff026d17712",
   "metadata": {},
   "source": [
    "Use srun and a couple of threads"
   ]
  },
  {
   "cell_type": "raw",
   "id": "b8b8b9c9-aa96-4a43-839e-81f4cae734b4",
   "metadata": {},
   "source": [
    "srun --cpus-per-task=2 --time=00:30:00 xargs -I{} -a ../analyses/zliu_run_accessions.txt fastqc --outdir fastqc --threads 2 --noextract ../data/sra_fastq/{}_1.fastq.gz ../data/sra_fastq/{}_2.fastq.gz"
   ]
  },
  {
   "cell_type": "code",
   "execution_count": 8,
   "id": "9f95fa6f-31c7-4a27-8cc1-5c7d3479a858",
   "metadata": {},
   "outputs": [
    {
     "name": "stdout",
     "output_type": "stream",
     "text": [
      "ERR6913297_1_fastqc.html  ERR6913299_2_fastqc.zip   ERR6913327_2_fastqc.html\n",
      "ERR6913297_1_fastqc.zip   ERR6913300_1_fastqc.html  ERR6913327_2_fastqc.zip\n",
      "ERR6913297_2_fastqc.html  ERR6913300_1_fastqc.zip   ERR6913328_1_fastqc.html\n",
      "ERR6913297_2_fastqc.zip   ERR6913300_2_fastqc.html  ERR6913328_1_fastqc.zip\n",
      "ERR6913298_1_fastqc.html  ERR6913300_2_fastqc.zip   ERR6913328_2_fastqc.html\n",
      "ERR6913298_1_fastqc.zip   ERR6913326_1_fastqc.html  ERR6913328_2_fastqc.zip\n",
      "ERR6913298_2_fastqc.html  ERR6913326_1_fastqc.zip   ERR6913329_1_fastqc.html\n",
      "ERR6913298_2_fastqc.zip   ERR6913326_2_fastqc.html  ERR6913329_1_fastqc.zip\n",
      "ERR6913299_1_fastqc.html  ERR6913326_2_fastqc.zip   ERR6913329_2_fastqc.html\n",
      "ERR6913299_1_fastqc.zip   ERR6913327_1_fastqc.html  ERR6913329_2_fastqc.zip\n",
      "ERR6913299_2_fastqc.html  ERR6913327_1_fastqc.zip\n"
     ]
    }
   ],
   "source": [
    "ls"
   ]
  },
  {
   "cell_type": "markdown",
   "id": "4bd6f3f9-97fc-4403-8f09-9ccb60088bbc",
   "metadata": {},
   "source": [
    "### Moving files from remote server to local laptop hard disk"
   ]
  },
  {
   "cell_type": "raw",
   "id": "0c985f5e-c21c-4c70-9bf3-c101b89cc8a5",
   "metadata": {},
   "source": [
    "scp 'zliu@core.cluster.france-bioinformatique.fr:/shared/projects/form_2022_19/ziwei/sars2copath/data/sra_fastq/fastqc/*.html' '/Users/liuziwei/Desktop/fastq/'"
   ]
  },
  {
   "cell_type": "markdown",
   "id": "f9e373b9-4525-408f-af77-7d9d83346b39",
   "metadata": {},
   "source": [
    "### Adapator and low quality read trimming"
   ]
  },
  {
   "cell_type": "raw",
   "id": "e5f47de4-496c-47a9-a8d7-0bdd1011f553",
   "metadata": {},
   "source": [
    "It seems we will not have to trim reads based on quality thresholds or presence of adapters, but if we had to we could have used:\n",
    "trimmomatic (Links to an external site.)\n",
    "cutadapt (Links to an external site.)\n",
    "trim-galore (Links to an external site.) (a handy wrapper script that integrates both cutadapt and fastQC)\n",
    "\n",
    "only if you are really eager, you can give one of these a try on your FASTQ files: in theory if this was done properly by the study authors, then your output trimmed files should be close to identical to the input files"
   ]
  },
  {
   "cell_type": "markdown",
   "id": "fd229fde-f705-460f-9ffb-ee10af164311",
   "metadata": {},
   "source": [
    "### Merging paired end reads"
   ]
  },
  {
   "cell_type": "raw",
   "id": "1b970149-6272-4895-ad21-d32f16a84f73",
   "metadata": {},
   "source": [
    "module load flash2"
   ]
  },
  {
   "cell_type": "code",
   "execution_count": 7,
   "id": "d83d1f07-0f7b-4c1b-87ce-3316a9963007",
   "metadata": {},
   "outputs": [
    {
     "name": "stdout",
     "output_type": "stream",
     "text": [
      "blastn\t\t     outputs\n",
      "blastn_para\t     R_studio_abundances_heatmaps.nb.html\n",
      "bowtie\t\t     R_studio_abundances_heatmaps.Rmd\n",
      "data\t\t     sample_collab.db\n",
      "Day1afternoon.ipynb  sample_collab_db_schema.sql\n",
      "history.txt\t     Untitled.ipynb\n",
      "kraken2\t\t     zliu_flash2.log\n",
      "krona\t\t     zliu_run_accessions.txt\n"
     ]
    }
   ],
   "source": [
    "ls"
   ]
  },
  {
   "cell_type": "raw",
   "id": "98679f45-a532-416a-8833-1de3d48ecaf4",
   "metadata": {},
   "source": [
    "srun --cpus-per-task=2 flash2 --threads=2 -z --output-directory merged_pairs --output-prefix=ERR6913329.flash ../data/sra_fastq/ERR6913329_1.fastq.gz ../data/sra_fastq/ERR6913329_2.fastq.gz 2>&1 |tee ziwei_flash2.log"
   ]
  },
  {
   "cell_type": "markdown",
   "id": "1df803e2-837f-4c70-87e5-f5320543b2e2",
   "metadata": {},
   "source": [
    "Set cpus to 2 to match srun reservation\n",
    "Set the output files with .flash\n",
    "Set the output files to be compressed\n",
    "Capture the program output by adding 2>&1 | tee your_username_flash2.log\n",
    "this allows you to follow the execution output live on your screen, whilst at the same time recording the very same output to a log file for future reference (in fact this log file will be used later by another  tool called MultiQ)\n",
    "the 2>&1 notation says that both STANDARD OUTPUT and STANDARD ERROR streams are recorded in the log file"
   ]
  },
  {
   "cell_type": "raw",
   "id": "75906851-87ef-4e0d-87bc-23e5d0982535",
   "metadata": {},
   "source": [
    "srun --cpus-per-task=2 --time=00:30:00 xargs -a ../analyses/zliu_run_accessions.txt -n 1 -I{} flash2 --threads=2 -z \\\n",
    "--output-directory=../data/merged_pairs/ --output-prefix={}.flash ../data/sra_fastq/{}_1.fastq.gz ../data/sra_fastq/{}_2.fastq.gz"
   ]
  },
  {
   "cell_type": "code",
   "execution_count": 19,
   "id": "836669c4-ce20-4534-9123-42f2731b26a9",
   "metadata": {},
   "outputs": [
    {
     "name": "stdout",
     "output_type": "stream",
     "text": [
      "ERR6913297.flash.extendedFrags.fastq.gz\n",
      "ERR6913297.flash.hist\n",
      "ERR6913297.flash.histogram\n",
      "ERR6913297.flash.notCombined_1.fastq.gz\n",
      "ERR6913297.flash.notCombined_2.fastq.gz\n",
      "ERR6913298.flash.extendedFrags.fastq.gz\n",
      "ERR6913298.flash.hist\n",
      "ERR6913298.flash.histogram\n",
      "ERR6913298.flash.notCombined_1.fastq.gz\n",
      "ERR6913298.flash.notCombined_2.fastq.gz\n",
      "ERR6913299.flash.extendedFrags.fastq.gz\n",
      "ERR6913299.flash.hist\n",
      "ERR6913299.flash.histogram\n",
      "ERR6913299.flash.notCombined_1.fastq.gz\n",
      "ERR6913299.flash.notCombined_2.fastq.gz\n",
      "ERR6913300.flash.extendedFrags.fastq.gz\n",
      "ERR6913300.flash.hist\n",
      "ERR6913300.flash.histogram\n",
      "ERR6913300.flash.notCombined_1.fastq.gz\n",
      "ERR6913300.flash.notCombined_2.fastq.gz\n",
      "ERR6913326.flash.extendedFrags.fastq.gz\n",
      "ERR6913326.flash.hist\n",
      "ERR6913326.flash.histogram\n",
      "ERR6913326.flash.notCombined_1.fastq.gz\n",
      "ERR6913326.flash.notCombined_2.fastq.gz\n",
      "ERR6913327.flash.extendedFrags.fastq.gz\n",
      "ERR6913327.flash.hist\n",
      "ERR6913327.flash.histogram\n",
      "ERR6913327.flash.notCombined_1.fastq.gz\n",
      "ERR6913327.flash.notCombined_2.fastq.gz\n",
      "ERR6913328.flash.extendedFrags.fastq.gz\n",
      "ERR6913328.flash.hist\n",
      "ERR6913328.flash.histogram\n",
      "ERR6913328.flash.notCombined_1.fastq.gz\n",
      "ERR6913328.flash.notCombined_2.fastq.gz\n",
      "ERR6913329.flash.extendedFrags.fastq.gz\n",
      "ERR6913329.flash.hist\n",
      "ERR6913329.flash.histogram\n",
      "ERR6913329.flash.notCombined_1.fastq.gz\n",
      "ERR6913329.flash.notCombined_2.fastq.gz\n"
     ]
    }
   ],
   "source": [
    "ls"
   ]
  },
  {
   "cell_type": "raw",
   "id": "3cca0bf3-395d-4ddc-9d55-6c049dd83b92",
   "metadata": {},
   "source": [
    "[zliu@clust-slurm-client merged_pairs]$ seqkit stats *.extendedFrags.fastq.gz\n",
    "file                                     format  type   num_seqs      sum_len  min_len  avg_len  max_len\n",
    "ERR6913297.flash.extendedFrags.fastq.gz  FASTQ   DNA     972,847  115,726,821       35      119      292\n",
    "ERR6913298.flash.extendedFrags.fastq.gz  FASTQ   DNA     165,669   20,806,033       35    125.6      292\n",
    "ERR6913299.flash.extendedFrags.fastq.gz  FASTQ   DNA     313,426   39,814,594       35      127      292\n",
    "ERR6913300.flash.extendedFrags.fastq.gz  FASTQ   DNA     690,008   98,225,630       35    142.4      292\n",
    "ERR6913326.flash.extendedFrags.fastq.gz  FASTQ   DNA   1,047,597  137,954,339       35    131.7      292\n",
    "ERR6913327.flash.extendedFrags.fastq.gz  FASTQ   DNA     536,482   75,389,565       35    140.5      292\n",
    "ERR6913328.flash.extendedFrags.fastq.gz  FASTQ   DNA     528,037   48,257,262       35     91.4      292\n",
    "ERR6913329.flash.extendedFrags.fastq.gz  FASTQ   DNA     624,464   65,713,359       35    105.2      292"
   ]
  },
  {
   "cell_type": "markdown",
   "id": "4c869de8-0fde-4b92-8f53-80947243a40e",
   "metadata": {},
   "source": [
    "### Use read mapping to check for PhiX contamination "
   ]
  },
  {
   "cell_type": "raw",
   "id": "44f8911e-0f0a-4ab0-81c2-02d94394b627",
   "metadata": {},
   "source": [
    "sh -c \"$(wget -q ftp://ftp.ncbi.nlm.nih.gov/entrez/entrezdirect/install-edirect.sh -O -)\""
   ]
  },
  {
   "cell_type": "raw",
   "id": "ee88ec9f-307f-4858-b5b5-4f64ceb629b7",
   "metadata": {},
   "source": [
    "efetch -db nuccore -id NC_001422 -format fasta > ../data/reference_seqs/PhiX_NC_001422.fna"
   ]
  },
  {
   "cell_type": "code",
   "execution_count": 22,
   "id": "0f41699f-432d-49a8-bc98-372153e50df8",
   "metadata": {},
   "outputs": [
    {
     "name": "stdout",
     "output_type": "stream",
     "text": [
      "PhiX_NC_001422.fna\n"
     ]
    }
   ],
   "source": [
    "cd reference_seqs\n",
    "ls"
   ]
  },
  {
   "cell_type": "raw",
   "id": "a4a8f246-a09f-4881-980d-6c583cd1ddd5",
   "metadata": {},
   "source": [
    "module load bowtie2"
   ]
  },
  {
   "cell_type": "markdown",
   "id": "04a1ab70-cab9-41d4-bc4f-f97e928dac2b",
   "metadata": {},
   "source": [
    "It is customary for fast sequence alignment software (also BLAST, MMSEQS2 etc.), \n",
    "you first need to create a bowtie2 indexed database from the reference sequences you wish to align the reads to (adapt as necessary for your sequence file names"
   ]
  },
  {
   "cell_type": "raw",
   "id": "2d70177d-aa53-4e3b-89a8-60074aaeb8b6",
   "metadata": {},
   "source": [
    "mkdir ../bowtie2_DBs\n",
    "srun bowtie2-build -f PhiX_NC_001422.fna ../bowtie2_DBs/PhiX_bowtie2_DB"
   ]
  },
  {
   "cell_type": "code",
   "execution_count": 26,
   "id": "07c202ed-a16d-4e34-b3f2-7e46c6345842",
   "metadata": {},
   "outputs": [
    {
     "name": "stdout",
     "output_type": "stream",
     "text": [
      "PhiX_bowtie2_DB.1.bt2  PhiX_bowtie2_DB.3.bt2  PhiX_bowtie2_DB.rev.1.bt2\n",
      "PhiX_bowtie2_DB.2.bt2  PhiX_bowtie2_DB.4.bt2  PhiX_bowtie2_DB.rev.2.bt2\n"
     ]
    }
   ],
   "source": [
    "cd ../bowtie2_DBs\n",
    "ls"
   ]
  },
  {
   "cell_type": "code",
   "execution_count": 27,
   "id": "5adeb45c-0570-447b-b1b2-4301b4573a62",
   "metadata": {},
   "outputs": [],
   "source": [
    "cd ../../analyses"
   ]
  },
  {
   "cell_type": "raw",
   "id": "4d454fb6-e231-4067-a643-acd9799f623a",
   "metadata": {},
   "source": [
    "mkdir bowtie"
   ]
  },
  {
   "cell_type": "raw",
   "id": "15601101-1ddf-4beb-bbad-5c4cdd9a1329",
   "metadata": {},
   "source": [
    "srun --cpus-per-task=8 bowtie2 -x ../data/bowtie2_DBs/PhiX_bowtie2_DB -U ../data/merged_pairs/ERR*.extendedFrags.fastq.gz \\\n",
    "-S bowtie/zliu_merged2PhiX.sam --threads 8 --no-unal 2>&1 | tee bowtie/zliu_bowtie_merged2PhiX.log "
   ]
  },
  {
   "cell_type": "code",
   "execution_count": 30,
   "id": "069e024d-3816-4f96-9a20-78ac08385229",
   "metadata": {},
   "outputs": [
    {
     "name": "stdout",
     "output_type": "stream",
     "text": [
      "zliu_bowtie_merged2PhiX.log  zliu_merged2PhiX.sam\n"
     ]
    }
   ],
   "source": [
    "cd bowtie\n",
    "ls"
   ]
  },
  {
   "cell_type": "raw",
   "id": "25f5d35d-ee3a-4e1e-bfd3-917b03234d93",
   "metadata": {},
   "source": [
    "## fetch SARS-CoV-2 sequences\n",
    "[zliu@clust-slurm-client reference_seqs]$ efetch -db nuccore -id NC_045512 -format fasta > PhiX_NC_045512.fna\n",
    "[zliu@clust-slurm-client reference_seqs]$ ls\n",
    "PhiX_NC_001422.fna  PhiX_NC_045512.fna"
   ]
  },
  {
   "cell_type": "raw",
   "id": "7fcb8b8a-e4d5-4cff-af25-d0ff314f9c9f",
   "metadata": {},
   "source": [
    "srun bowtie2-build -f PhiX_NC_045512.fna ../bowtie2_DBs/SC2_bowtie2_DB"
   ]
  },
  {
   "cell_type": "code",
   "execution_count": 44,
   "id": "c584c851-fdb7-4edf-8ce9-2ac78132dc26",
   "metadata": {},
   "outputs": [
    {
     "name": "stdout",
     "output_type": "stream",
     "text": [
      "PhiX_bowtie2_DB.1.bt2  PhiX_bowtie2_DB.rev.1.bt2  SC2_bowtie2_DB.3.bt2\n",
      "PhiX_bowtie2_DB.2.bt2  PhiX_bowtie2_DB.rev.2.bt2  SC2_bowtie2_DB.4.bt2\n",
      "PhiX_bowtie2_DB.3.bt2  SC2_bowtie2_DB.1.bt2\t  SC2_bowtie2_DB.rev.1.bt2\n",
      "PhiX_bowtie2_DB.4.bt2  SC2_bowtie2_DB.2.bt2\t  SC2_bowtie2_DB.rev.2.bt2\n"
     ]
    }
   ],
   "source": [
    "cd bowtie2_DBs\n",
    "ls"
   ]
  },
  {
   "cell_type": "raw",
   "id": "2de0084b-bed2-4313-98f6-329c61887d0f",
   "metadata": {},
   "source": [
    "[zliu@clust-slurm-client reference_seqs]$ srun --cpus-per-task=8 bowtie2 -x ../bowtie2_DBs/SC2_bowtie2_DB -U ../merged_pairs/ERR*.extendedFrags.fastq.gz -S ../../analyses/bowtie/zliu_merged2SC2.sam --threads 8 --no-unal 2>&1 | tee ../../analyses/bowtie/zliu_bowtie_merged2SC2.log\n",
    "srun: job 23379297 queued and waiting for resources\n",
    "srun: job 23379297 has been allocated resources\n",
    "4878530 reads; of these:\n",
    "  4878530 (100.00%) were unpaired; of these:\n",
    "    4876095 (99.95%) aligned 0 times\n",
    "    2435 (0.05%) aligned exactly 1 time\n",
    "    0 (0.00%) aligned >1 times"
   ]
  },
  {
   "cell_type": "markdown",
   "id": "e0bd859d-8027-45e5-a6cc-a789822b1371",
   "metadata": {},
   "source": [
    "### Combine quality control results into one unique report for all samples analyses"
   ]
  },
  {
   "cell_type": "code",
   "execution_count": 47,
   "id": "84583d95-8a5e-4811-a51b-acd9977c0bab",
   "metadata": {},
   "outputs": [],
   "source": [
    "module load multiqc"
   ]
  },
  {
   "cell_type": "code",
   "execution_count": 48,
   "id": "2af3bb41-7123-4462-9cf6-80d91085458e",
   "metadata": {
    "tags": []
   },
   "outputs": [
    {
     "name": "stdout",
     "output_type": "stream",
     "text": [
      "Usage: multiqc [OPTIONS] <analysis directory>\n",
      "\n",
      "  MultiQC aggregates results from bioinformatics analyses across many samples\n",
      "  into a single report.\n",
      "\n",
      "  It searches a given directory for analysis logs and compiles a HTML report.\n",
      "  It's a general use tool, perfect for summarising the output from numerous\n",
      "  bioinformatics tools.\n",
      "\n",
      "  To run, supply with one or more directory to scan for analysis results. To\n",
      "  run here, use 'multiqc .'\n",
      "\n",
      "  See http://multiqc.info for more details.\n",
      "\n",
      "  Author: Phil Ewels (http://phil.ewels.co.uk)\n",
      "\n",
      "Options:\n",
      "  -f, --force                     Overwrite any existing reports\n",
      "  -d, --dirs                      Prepend directory to sample names\n",
      "  -dd, --dirs-depth INTEGER       Prepend [INT] directories to sample names.\n",
      "                                  Negative number to take from start of path.\n",
      "  -s, --fullnames                 Do not clean the sample names (leave as full\n",
      "                                  file name)\n",
      "  -i, --title TEXT                Report title. Printed as page header, used\n",
      "                                  for filename if not otherwise specified.\n",
      "  -b, --comment TEXT              Custom comment, will be printed at the top\n",
      "                                  of the report.\n",
      "  -n, --filename TEXT             Report filename. Use 'stdout' to print to\n",
      "                                  standard out.\n",
      "  -o, --outdir TEXT               Create report in the specified output\n",
      "                                  directory.\n",
      "  -t, --template [default|default_dev|gathered|geo|sections|simple]\n",
      "                                  Report template to use.\n",
      "  --tag TEXT                      Use only modules which tagged with this\n",
      "                                  keyword, eg. RNA\n",
      "  --view-tags, --view_tags        View the available tags and which modules\n",
      "                                  they load\n",
      "  -x, --ignore TEXT               Ignore analysis files (glob expression)\n",
      "  --ignore-samples TEXT           Ignore sample names (glob expression)\n",
      "  --ignore-symlinks               Ignore symlinked directories and files\n",
      "  --fn_as_s_name                  Use the log filename as the sample name\n",
      "  --replace-names PATH            Path to TSV file to rename sample names\n",
      "                                  during report generation\n",
      "  --sample-names PATH             Path to TSV file containing alternative\n",
      "                                  sample names for renaming buttons in the\n",
      "                                  report\n",
      "  --sample-filters PATH           Path to TSV file containing show/hide\n",
      "                                  patterns for the report\n",
      "  -l, --file-list                 Supply a file containing a list of file\n",
      "                                  paths to be searched, one per row\n",
      "  -e, --exclude [module name]     Do not use this module. Can specify multiple\n",
      "                                  times.\n",
      "  -m, --module [module name]      Use only this module. Can specify multiple\n",
      "                                  times.\n",
      "  --data-dir                      Force the parsed data directory to be\n",
      "                                  created.\n",
      "  --no-data-dir                   Prevent the parsed data directory from being\n",
      "                                  created.\n",
      "  -k, --data-format [tsv|json|yaml]\n",
      "                                  Output parsed data in a different format.\n",
      "                                  Default: tsv\n",
      "  -z, --zip-data-dir              Compress the data directory.\n",
      "  --no-report                     Do not generate a report, only export data\n",
      "                                  and plots\n",
      "  -p, --export                    Export plots as static images in addition to\n",
      "                                  the report\n",
      "  -fp, --flat                     Use only flat plots (static images)\n",
      "  -ip, --interactive              Use only interactive plots (HighCharts\n",
      "                                  Javascript)\n",
      "  --lint                          Use strict linting (validation) to help code\n",
      "                                  development\n",
      "  --pdf                           Creates PDF report with 'simple' template.\n",
      "                                  Requires Pandoc to be installed.\n",
      "  --no-megaqc-upload              Don't upload generated report to MegaQC,\n",
      "                                  even if MegaQC options are found\n",
      "  -c, --config PATH               Specific config file to load, after those in\n",
      "                                  MultiQC dir / home dir / working dir.\n",
      "  --cl-config, --cl_config TEXT   Specify MultiQC config YAML on the command\n",
      "                                  line\n",
      "  -v, --verbose                   Increase output verbosity.\n",
      "  -q, --quiet                     Only show log warnings\n",
      "  --profile-runtime               Add analysis of how long MultiQC takes to\n",
      "                                  run to the report\n",
      "  --no-ansi                       Disable coloured log output\n",
      "  --custom-css-file PATH          Custom CSS file to add to the final report\n",
      "  --version                       Show the version and exit.\n",
      "  -h, --help                      Show this message and exit.\n"
     ]
    }
   ],
   "source": [
    "multiqc --help"
   ]
  },
  {
   "cell_type": "markdown",
   "id": "a6ec7aca-eb63-44ad-b0db-59163ea55054",
   "metadata": {},
   "source": [
    "-- multiqc automagically guesses where all these files came from and digests their contents\n",
    "adding at least the --title to individualise all participant reports\n",
    "add the --force switch so you don't get incremental reports each time you run this command"
   ]
  },
  {
   "cell_type": "raw",
   "id": "5adc8c91-4911-4340-af17-4b84fc7a22a8",
   "metadata": {},
   "source": [
    "[zliu@clust-slurm-client analyses]$ srun multiqc --force --title \"zliu sample sub-set\" ../data/merged_pairs/ ../data/sra_fastq/fastqc/ zliu_flash2.log bowtie/\n",
    "srun: job 23379670 queued and waiting for resources\n",
    "srun: job 23379670 has been allocated resources\n",
    "\n",
    "  /// MultiQC 🔍 | v1.12\n",
    "\n",
    "|           multiqc | Report title: zliu sample sub-set\n",
    "|           multiqc | Search path : /shared/ifbstor1/projects/form_2022_19/ziwei/sars2copath/data/merged_pairs\n",
    "|           multiqc | Search path : /shared/ifbstor1/projects/form_2022_19/ziwei/sars2copath/data/sra_fastq/fastqc\n",
    "|           multiqc | Search path : /shared/ifbstor1/projects/form_2022_19/ziwei/sars2copath/analyses/zliu_flash2.log\n",
    "|           multiqc | Search path : /shared/ifbstor1/projects/form_2022_19/ziwei/sars2copath/analyses/bowtie\n",
    "|         searching | ━━━━━━━━━━━━━━━━━━━━━━━━━━━━━━━━━━━━━━━━ 100% 77/77  \n",
    "|           bowtie2 | Found 2 reports\n",
    "|            fastqc | Found 16 reports\n",
    "|             flash | Found 1 log reports\n",
    "|             flash | Found 8 histogram reports\n",
    "|           multiqc | Compressing plot data\n",
    "|           multiqc | Report      : zliu-sample-sub-set_multiqc_report.html\n",
    "|           multiqc | Data        : zliu-sample-sub-set_multiqc_report_data\n",
    "|           multiqc | MultiQC complete"
   ]
  },
  {
   "cell_type": "raw",
   "id": "646c2bc5-0962-4fff-bc34-ff211de9f7da",
   "metadata": {},
   "source": [
    "(base) liuziwei@MacBook-Pro-4 ~ % scp 'zliu@core.cluster.france-bioinformatique.fr:/shared/projects/form_2022_19/ziwei/sars2copath/data/sra_fastq/analyses/zliu-sample-sub-set_multiqc_report.html' '/Users/liuziwei/Desktop/fastq/'\n",
    "zliu@core.cluster.france-bioinformatique.fr's password: \n",
    "scp: /shared/projects/form_2022_19/ziwei/sars2copath/data/sra_fastq/analyses/zliu-sample-sub-set_multiqc_report.html: No such file or directory\n",
    "(base) liuziwei@MacBook-Pro-4 ~ % scp 'zliu@core.cluster.france-bioinformatique.fr:/shared/projects/form_2022_19/ziwei/sars2copath/analyses/zliu-sample-sub-set_multiqc_report.html' '/Users/liuziwei/Desktop/fastq/' \n",
    "zliu@core.cluster.france-bioinformatique.fr's password: \n",
    "zliu-sample-sub-set_multiqc_report.html                                                                                                     100% 1329KB   3.5MB/s   00:00    \n",
    "\n"
   ]
  },
  {
   "cell_type": "raw",
   "id": "84843019-2c82-4738-ac66-175506aa344e",
   "metadata": {},
   "source": [
    "[zliu@clust-slurm-client scripts]$ vim ziwei_read_QC.sh \n",
    "\n",
    "#!/bin/bash\n",
    "echo \"script start: download and initial sequencing read quality control\"\n",
    "\n",
    "module load R\n",
    "\n",
    "#access to NCBI\n",
    "sqlite3 -batch /shared/projects/form_2022_19/pascal/central_database/sample_collab.db \\\n",
    "\"select run_accession from (select spl.run_accession from sample_annot spl left join sample2bioinformatician s2b using(patient_code) where username='zliu');\" -noheader -csv > ../analyses/zliu_run_accessions.text\n",
    "\n",
    "module load sra-tools\n",
    "cat ../analyses/zliu_run_accessions.txt | srun --cpus-per-task=1 --time=00:30:00 xargs fastq-dump --readids --gzip \\\n",
    "--outdir ../data/sra_fastq/ --disable-multithreading --split-e\n",
    "\n",
    "#quality control the raw sequencing FASTQ files with fastQC¶\n",
    "module load fastqc\n",
    "srun --cpus-per-task=2 --time=00:30:00 xargs -I{} -a ../analyses/zliu_run_accessions.txt fastqc --outdir fastqc --threads 2 --noextract ../data/sra_fastq/{}_1.fastq.gz ../data/sra_fastq/{}_2.fastq.gz\n",
    "\n",
    "#Merging paired end reads\n",
    "module load flash2\n",
    "srun --cpus-per-task=2 --time=00:30:00 xargs -a ../analyses/zliu_run_accessions.txt -n 1 -I{} flash2 --threads=2 -z \\\n",
    "--output-directory=../data/merged_pairs/ --output-prefix={}.flash ../data/sra_fastq/{}_1.fastq.gz ../data/sra_fastq/{}_2.fastq.gz\n",
    "\n",
    "#Combine quality control results into one unique report for all samples analyses\n",
    "module load multiqc\n",
    "srun multiqc --force --title \"zliu sample sub-set\" ../data/merged_pairs/ ../data/sra_fastq/fastqc/ ../analyses/zliu_flash2.log ../analyses/bowtie/\n",
    "\n",
    "\n",
    "\n",
    "\n",
    "echo \"script end.\"\n",
    "~                                                                                                                                                    \n",
    "~                                                                                                                                                    \n",
    "~    "
   ]
  },
  {
   "cell_type": "markdown",
   "id": "3476175b-8b46-4759-b36c-67256341d326",
   "metadata": {},
   "source": [
    "check out your SLURM usage so far"
   ]
  },
  {
   "cell_type": "raw",
   "id": "0525538a-70ef-4995-bcc2-3ec872c6bba1",
   "metadata": {},
   "source": [
    "[zliu@clust-slurm-client scripts]$ sacct  --format=JobID,JobName%20,ReqCPUS,ReqMem,Timelimit,State,ExitCode,Start,elapsed,MaxRSS,NodeList,Account%15 -S 2022-06-16"
   ]
  }
 ],
 "metadata": {
  "kernelspec": {
   "display_name": "Bash",
   "language": "bash",
   "name": "bash"
  },
  "language_info": {
   "codemirror_mode": "shell",
   "file_extension": ".sh",
   "mimetype": "text/x-sh",
   "name": "bash"
  }
 },
 "nbformat": 4,
 "nbformat_minor": 5
}
