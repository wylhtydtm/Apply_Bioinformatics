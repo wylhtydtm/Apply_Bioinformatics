{
 "cells": [
  {
   "cell_type": "markdown",
   "id": "c0c7076d-a274-4256-bffc-e0d2eaddbaa9",
   "metadata": {},
   "source": [
    "The following R commands load the R RDBMS API library, and open a connection to the SQLite GWAS database file"
   ]
  },
  {
   "cell_type": "code",
   "execution_count": 1,
   "id": "e14d11e1-2b5e-465d-96e4-d4606fa53db9",
   "metadata": {},
   "outputs": [],
   "source": [
    "library(DBI)"
   ]
  },
  {
   "cell_type": "code",
   "execution_count": 3,
   "id": "42c08c2a-1d26-4e3b-be0f-305ff2352542",
   "metadata": {},
   "outputs": [],
   "source": [
    "gwasdb <- dbConnect(RSQLite::SQLite(), \"/shared/home/zliu/bds-files/chapter-13-out-of-memory/gwascat.db\")"
   ]
  },
  {
   "cell_type": "markdown",
   "id": "1d8bf531-d154-4503-8da2-ef02d5589058",
   "metadata": {},
   "source": [
    "To execute SQL commands, embed your SQL statements as follows"
   ]
  },
  {
   "cell_type": "markdown",
   "id": "e01eca6a-2d03-42b0-8b62-589391e30728",
   "metadata": {
    "jupyter": {
     "outputs_hidden": true
    },
    "tags": []
   },
   "source": [
    "dbGetQuery(gwasdb, 'SELECT * FROM gwascat')"
   ]
  },
  {
   "cell_type": "markdown",
   "id": "5863c45b-5cbd-4386-b1f0-9179c63ac5d9",
   "metadata": {},
   "source": [
    "You can directly assign the results of a SQL query to an R data frame class object"
   ]
  },
  {
   "cell_type": "code",
   "execution_count": 4,
   "id": "2fc6acee-305d-40f0-9cad-759ba3391421",
   "metadata": {},
   "outputs": [],
   "source": [
    "df <- dbGetQuery(gwasdb, 'SELECT * FROM gwascat limit 10')"
   ]
  },
  {
   "cell_type": "code",
   "execution_count": 5,
   "id": "a678ae6a-0de6-4785-9380-e1594f774bf0",
   "metadata": {},
   "outputs": [
    {
     "data": {
      "text/html": [
       "'Ferreira MA'"
      ],
      "text/latex": [
       "'Ferreira MA'"
      ],
      "text/markdown": [
       "'Ferreira MA'"
      ],
      "text/plain": [
       "[1] \"Ferreira MA\""
      ]
     },
     "metadata": {},
     "output_type": "display_data"
    }
   ],
   "source": [
    "df[3, 'author']"
   ]
  },
  {
   "cell_type": "code",
   "execution_count": 6,
   "id": "25f180a9-117f-46a2-aba6-70ee3fc7768c",
   "metadata": {},
   "outputs": [
    {
     "data": {
      "text/html": [
       "'gwascat'"
      ],
      "text/latex": [
       "'gwascat'"
      ],
      "text/markdown": [
       "'gwascat'"
      ],
      "text/plain": [
       "[1] \"gwascat\""
      ]
     },
     "metadata": {},
     "output_type": "display_data"
    }
   ],
   "source": [
    "dbListTables(gwasdb)"
   ]
  },
  {
   "cell_type": "code",
   "execution_count": 21,
   "id": "2a0a37d5-d6af-4243-be21-f04544621eaf",
   "metadata": {},
   "outputs": [
    {
     "data": {
      "text/html": [
       "<style>\n",
       ".list-inline {list-style: none; margin:0; padding: 0}\n",
       ".list-inline>li {display: inline-block}\n",
       ".list-inline>li:not(:last-child)::after {content: \"\\00b7\"; padding: 0 .5ex}\n",
       "</style>\n",
       "<ol class=list-inline><li>'id'</li><li>'dbdate'</li><li>'pubmedid'</li><li>'author'</li><li>'date'</li><li>'journal'</li><li>'link'</li><li>'study'</li><li>'trait'</li><li>'initial_samplesize'</li><li>'replication_samplesize'</li><li>'region'</li><li>'chrom'</li><li>'position'</li><li>'reported_genes'</li><li>'mapped_gene'</li><li>'upstream_gene_id'</li><li>'downstream_gene_id'</li><li>'snp_gene_ids'</li><li>'upstream_gene_distance'</li><li>'downstream_gene_distance'</li><li>'strongest_risk_snp'</li><li>'strongest_risk_allele'</li><li>'snps'</li><li>'merged'</li><li>'snp_id_current'</li><li>'context'</li><li>'intergenic'</li><li>'risk_allele_freq'</li><li>'pvalue'</li><li>'pvalue_mlog'</li><li>'pvalue_text'</li><li>'or_beta'</li><li>'ci_95'</li><li>'platform'</li><li>'cnv'</li></ol>\n"
      ],
      "text/latex": [
       "\\begin{enumerate*}\n",
       "\\item 'id'\n",
       "\\item 'dbdate'\n",
       "\\item 'pubmedid'\n",
       "\\item 'author'\n",
       "\\item 'date'\n",
       "\\item 'journal'\n",
       "\\item 'link'\n",
       "\\item 'study'\n",
       "\\item 'trait'\n",
       "\\item 'initial\\_samplesize'\n",
       "\\item 'replication\\_samplesize'\n",
       "\\item 'region'\n",
       "\\item 'chrom'\n",
       "\\item 'position'\n",
       "\\item 'reported\\_genes'\n",
       "\\item 'mapped\\_gene'\n",
       "\\item 'upstream\\_gene\\_id'\n",
       "\\item 'downstream\\_gene\\_id'\n",
       "\\item 'snp\\_gene\\_ids'\n",
       "\\item 'upstream\\_gene\\_distance'\n",
       "\\item 'downstream\\_gene\\_distance'\n",
       "\\item 'strongest\\_risk\\_snp'\n",
       "\\item 'strongest\\_risk\\_allele'\n",
       "\\item 'snps'\n",
       "\\item 'merged'\n",
       "\\item 'snp\\_id\\_current'\n",
       "\\item 'context'\n",
       "\\item 'intergenic'\n",
       "\\item 'risk\\_allele\\_freq'\n",
       "\\item 'pvalue'\n",
       "\\item 'pvalue\\_mlog'\n",
       "\\item 'pvalue\\_text'\n",
       "\\item 'or\\_beta'\n",
       "\\item 'ci\\_95'\n",
       "\\item 'platform'\n",
       "\\item 'cnv'\n",
       "\\end{enumerate*}\n"
      ],
      "text/markdown": [
       "1. 'id'\n",
       "2. 'dbdate'\n",
       "3. 'pubmedid'\n",
       "4. 'author'\n",
       "5. 'date'\n",
       "6. 'journal'\n",
       "7. 'link'\n",
       "8. 'study'\n",
       "9. 'trait'\n",
       "10. 'initial_samplesize'\n",
       "11. 'replication_samplesize'\n",
       "12. 'region'\n",
       "13. 'chrom'\n",
       "14. 'position'\n",
       "15. 'reported_genes'\n",
       "16. 'mapped_gene'\n",
       "17. 'upstream_gene_id'\n",
       "18. 'downstream_gene_id'\n",
       "19. 'snp_gene_ids'\n",
       "20. 'upstream_gene_distance'\n",
       "21. 'downstream_gene_distance'\n",
       "22. 'strongest_risk_snp'\n",
       "23. 'strongest_risk_allele'\n",
       "24. 'snps'\n",
       "25. 'merged'\n",
       "26. 'snp_id_current'\n",
       "27. 'context'\n",
       "28. 'intergenic'\n",
       "29. 'risk_allele_freq'\n",
       "30. 'pvalue'\n",
       "31. 'pvalue_mlog'\n",
       "32. 'pvalue_text'\n",
       "33. 'or_beta'\n",
       "34. 'ci_95'\n",
       "35. 'platform'\n",
       "36. 'cnv'\n",
       "\n",
       "\n"
      ],
      "text/plain": [
       " [1] \"id\"                       \"dbdate\"                  \n",
       " [3] \"pubmedid\"                 \"author\"                  \n",
       " [5] \"date\"                     \"journal\"                 \n",
       " [7] \"link\"                     \"study\"                   \n",
       " [9] \"trait\"                    \"initial_samplesize\"      \n",
       "[11] \"replication_samplesize\"   \"region\"                  \n",
       "[13] \"chrom\"                    \"position\"                \n",
       "[15] \"reported_genes\"           \"mapped_gene\"             \n",
       "[17] \"upstream_gene_id\"         \"downstream_gene_id\"      \n",
       "[19] \"snp_gene_ids\"             \"upstream_gene_distance\"  \n",
       "[21] \"downstream_gene_distance\" \"strongest_risk_snp\"      \n",
       "[23] \"strongest_risk_allele\"    \"snps\"                    \n",
       "[25] \"merged\"                   \"snp_id_current\"          \n",
       "[27] \"context\"                  \"intergenic\"              \n",
       "[29] \"risk_allele_freq\"         \"pvalue\"                  \n",
       "[31] \"pvalue_mlog\"              \"pvalue_text\"             \n",
       "[33] \"or_beta\"                  \"ci_95\"                   \n",
       "[35] \"platform\"                 \"cnv\"                     "
      ]
     },
     "metadata": {},
     "output_type": "display_data"
    }
   ],
   "source": [
    "dbListFields(gwasdb, \"gwascat\")"
   ]
  },
  {
   "cell_type": "markdown",
   "id": "6eb17b2e-26f2-422a-9775-dd5d1888a581",
   "metadata": {},
   "source": [
    "to replace the SQLite dot command \".indices\" for which there doesn't appear to be an R API wrapper function, use the following statement which queries the special internal SQLite table \"sqlite_master\":"
   ]
  },
  {
   "cell_type": "code",
   "execution_count": 8,
   "id": "f078f689-4644-44ca-9dbe-322227139bad",
   "metadata": {},
   "outputs": [
    {
     "data": {
      "text/html": [
       "<table class=\"dataframe\">\n",
       "<caption>A data.frame: 0 × 4</caption>\n",
       "<thead>\n",
       "\t<tr><th scope=col>type</th><th scope=col>name</th><th scope=col>tbl_name</th><th scope=col>sql</th></tr>\n",
       "\t<tr><th scope=col>&lt;chr&gt;</th><th scope=col>&lt;chr&gt;</th><th scope=col>&lt;chr&gt;</th><th scope=col>&lt;chr&gt;</th></tr>\n",
       "</thead>\n",
       "<tbody>\n",
       "</tbody>\n",
       "</table>\n"
      ],
      "text/latex": [
       "A data.frame: 0 × 4\n",
       "\\begin{tabular}{llll}\n",
       " type & name & tbl\\_name & sql\\\\\n",
       " <chr> & <chr> & <chr> & <chr>\\\\\n",
       "\\hline\n",
       "\\end{tabular}\n"
      ],
      "text/markdown": [
       "\n",
       "A data.frame: 0 × 4\n",
       "\n",
       "| type &lt;chr&gt; | name &lt;chr&gt; | tbl_name &lt;chr&gt; | sql &lt;chr&gt; |\n",
       "|---|---|---|---|\n",
       "\n"
      ],
      "text/plain": [
       "     type name tbl_name sql"
      ]
     },
     "metadata": {},
     "output_type": "display_data"
    }
   ],
   "source": [
    "dbGetQuery(gwasdb, 'select type, name, tbl_name, sql FROM sqlite_master WHERE type=\"index\" ')"
   ]
  },
  {
   "cell_type": "code",
   "execution_count": 18,
   "id": "8c834e11-2ef6-4ab4-95ae-06c6e606a031",
   "metadata": {},
   "outputs": [
    {
     "data": {
      "text/html": [
       "<table class=\"dataframe\">\n",
       "<caption>A data.frame: 5 × 5</caption>\n",
       "<thead>\n",
       "\t<tr><th scope=col>trait</th><th scope=col>chrom</th><th scope=col>position</th><th scope=col>strongest_risk_snp</th><th scope=col>pvalue</th></tr>\n",
       "\t<tr><th scope=col>&lt;chr&gt;</th><th scope=col>&lt;chr&gt;</th><th scope=col>&lt;int&gt;</th><th scope=col>&lt;chr&gt;</th><th scope=col>&lt;dbl&gt;</th></tr>\n",
       "</thead>\n",
       "<tbody>\n",
       "\t<tr><td>Asthma and hay fever</td><td>6 </td><td> 32658824</td><td>rs9273373 </td><td>4e-14</td></tr>\n",
       "\t<tr><td>Asthma and hay fever</td><td>4 </td><td> 38798089</td><td>rs4833095 </td><td>5e-12</td></tr>\n",
       "\t<tr><td>Asthma and hay fever</td><td>5 </td><td>111131801</td><td>rs1438673 </td><td>3e-11</td></tr>\n",
       "\t<tr><td>Asthma and hay fever</td><td>2 </td><td>102350089</td><td>rs10197862</td><td>4e-11</td></tr>\n",
       "\t<tr><td>Asthma and hay fever</td><td>17</td><td> 39966427</td><td>rs7212938 </td><td>4e-10</td></tr>\n",
       "</tbody>\n",
       "</table>\n"
      ],
      "text/latex": [
       "A data.frame: 5 × 5\n",
       "\\begin{tabular}{lllll}\n",
       " trait & chrom & position & strongest\\_risk\\_snp & pvalue\\\\\n",
       " <chr> & <chr> & <int> & <chr> & <dbl>\\\\\n",
       "\\hline\n",
       "\t Asthma and hay fever & 6  &  32658824 & rs9273373  & 4e-14\\\\\n",
       "\t Asthma and hay fever & 4  &  38798089 & rs4833095  & 5e-12\\\\\n",
       "\t Asthma and hay fever & 5  & 111131801 & rs1438673  & 3e-11\\\\\n",
       "\t Asthma and hay fever & 2  & 102350089 & rs10197862 & 4e-11\\\\\n",
       "\t Asthma and hay fever & 17 &  39966427 & rs7212938  & 4e-10\\\\\n",
       "\\end{tabular}\n"
      ],
      "text/markdown": [
       "\n",
       "A data.frame: 5 × 5\n",
       "\n",
       "| trait &lt;chr&gt; | chrom &lt;chr&gt; | position &lt;int&gt; | strongest_risk_snp &lt;chr&gt; | pvalue &lt;dbl&gt; |\n",
       "|---|---|---|---|---|\n",
       "| Asthma and hay fever | 6  |  32658824 | rs9273373  | 4e-14 |\n",
       "| Asthma and hay fever | 4  |  38798089 | rs4833095  | 5e-12 |\n",
       "| Asthma and hay fever | 5  | 111131801 | rs1438673  | 3e-11 |\n",
       "| Asthma and hay fever | 2  | 102350089 | rs10197862 | 4e-11 |\n",
       "| Asthma and hay fever | 17 |  39966427 | rs7212938  | 4e-10 |\n",
       "\n"
      ],
      "text/plain": [
       "  trait                chrom position  strongest_risk_snp pvalue\n",
       "1 Asthma and hay fever 6      32658824 rs9273373          4e-14 \n",
       "2 Asthma and hay fever 4      38798089 rs4833095          5e-12 \n",
       "3 Asthma and hay fever 5     111131801 rs1438673          3e-11 \n",
       "4 Asthma and hay fever 2     102350089 rs10197862         4e-11 \n",
       "5 Asthma and hay fever 17     39966427 rs7212938          4e-10 "
      ]
     },
     "metadata": {},
     "output_type": "display_data"
    }
   ],
   "source": [
    "dbGetQuery(gwasdb, 'SELECT trait, chrom, position, strongest_risk_snp, pvalue FROM gwascat LIMIT 5')"
   ]
  },
  {
   "cell_type": "code",
   "execution_count": 19,
   "id": "8374fffe-5a46-4fa8-8192-ab2533531838",
   "metadata": {},
   "outputs": [
    {
     "data": {
      "text/html": [
       "<table class=\"dataframe\">\n",
       "<caption>A data.frame: 5 × 5</caption>\n",
       "<thead>\n",
       "\t<tr><th scope=col>trait</th><th scope=col>chrom</th><th scope=col>position</th><th scope=col>strongest_risk_snp</th><th scope=col>pvalue</th></tr>\n",
       "\t<tr><th scope=col>&lt;chr&gt;</th><th scope=col>&lt;chr&gt;</th><th scope=col>&lt;int&gt;</th><th scope=col>&lt;chr&gt;</th><th scope=col>&lt;dbl&gt;</th></tr>\n",
       "</thead>\n",
       "<tbody>\n",
       "\t<tr><td>&amp;beta;2-Glycoprotein I (&amp;beta;2-GPI) plasma levels</td><td>11</td><td>34533644</td><td><span style=white-space:pre-wrap>rs836132  </span></td><td>5e-08</td></tr>\n",
       "\t<tr><td>&amp;beta;2-Glycoprotein I (&amp;beta;2-GPI) plasma levels</td><td>11</td><td> 9090011</td><td><span style=white-space:pre-wrap>rs963167  </span></td><td>1e-07</td></tr>\n",
       "\t<tr><td>&amp;beta;2-Glycoprotein I (&amp;beta;2-GPI) plasma levels</td><td>11</td><td> 9087740</td><td>rs2647528 </td><td>3e-07</td></tr>\n",
       "\t<tr><td>&amp;beta;2-Glycoprotein I (&amp;beta;2-GPI) plasma levels</td><td>17</td><td>66137608</td><td>rs7209395 </td><td>7e-07</td></tr>\n",
       "\t<tr><td>&amp;beta;2-Glycoprotein I (&amp;beta;2-GPI) plasma levels</td><td>17</td><td>66240200</td><td>rs10048158</td><td>1e-06</td></tr>\n",
       "</tbody>\n",
       "</table>\n"
      ],
      "text/latex": [
       "A data.frame: 5 × 5\n",
       "\\begin{tabular}{lllll}\n",
       " trait & chrom & position & strongest\\_risk\\_snp & pvalue\\\\\n",
       " <chr> & <chr> & <int> & <chr> & <dbl>\\\\\n",
       "\\hline\n",
       "\t \\&beta;2-Glycoprotein I (\\&beta;2-GPI) plasma levels & 11 & 34533644 & rs836132   & 5e-08\\\\\n",
       "\t \\&beta;2-Glycoprotein I (\\&beta;2-GPI) plasma levels & 11 &  9090011 & rs963167   & 1e-07\\\\\n",
       "\t \\&beta;2-Glycoprotein I (\\&beta;2-GPI) plasma levels & 11 &  9087740 & rs2647528  & 3e-07\\\\\n",
       "\t \\&beta;2-Glycoprotein I (\\&beta;2-GPI) plasma levels & 17 & 66137608 & rs7209395  & 7e-07\\\\\n",
       "\t \\&beta;2-Glycoprotein I (\\&beta;2-GPI) plasma levels & 17 & 66240200 & rs10048158 & 1e-06\\\\\n",
       "\\end{tabular}\n"
      ],
      "text/markdown": [
       "\n",
       "A data.frame: 5 × 5\n",
       "\n",
       "| trait &lt;chr&gt; | chrom &lt;chr&gt; | position &lt;int&gt; | strongest_risk_snp &lt;chr&gt; | pvalue &lt;dbl&gt; |\n",
       "|---|---|---|---|---|\n",
       "| &amp;beta;2-Glycoprotein I (&amp;beta;2-GPI) plasma levels | 11 | 34533644 | rs836132   | 5e-08 |\n",
       "| &amp;beta;2-Glycoprotein I (&amp;beta;2-GPI) plasma levels | 11 |  9090011 | rs963167   | 1e-07 |\n",
       "| &amp;beta;2-Glycoprotein I (&amp;beta;2-GPI) plasma levels | 11 |  9087740 | rs2647528  | 3e-07 |\n",
       "| &amp;beta;2-Glycoprotein I (&amp;beta;2-GPI) plasma levels | 17 | 66137608 | rs7209395  | 7e-07 |\n",
       "| &amp;beta;2-Glycoprotein I (&amp;beta;2-GPI) plasma levels | 17 | 66240200 | rs10048158 | 1e-06 |\n",
       "\n"
      ],
      "text/plain": [
       "  trait                                              chrom position\n",
       "1 &beta;2-Glycoprotein I (&beta;2-GPI) plasma levels 11    34533644\n",
       "2 &beta;2-Glycoprotein I (&beta;2-GPI) plasma levels 11     9090011\n",
       "3 &beta;2-Glycoprotein I (&beta;2-GPI) plasma levels 11     9087740\n",
       "4 &beta;2-Glycoprotein I (&beta;2-GPI) plasma levels 17    66137608\n",
       "5 &beta;2-Glycoprotein I (&beta;2-GPI) plasma levels 17    66240200\n",
       "  strongest_risk_snp pvalue\n",
       "1 rs836132           5e-08 \n",
       "2 rs963167           1e-07 \n",
       "3 rs2647528          3e-07 \n",
       "4 rs7209395          7e-07 \n",
       "5 rs10048158         1e-06 "
      ]
     },
     "metadata": {},
     "output_type": "display_data"
    }
   ],
   "source": [
    "dbGetQuery(gwasdb, 'SELECT trait, chrom, position, strongest_risk_snp, pvalue FROM gwascat ORDER BY trait LIMIT 5')"
   ]
  },
  {
   "cell_type": "code",
   "execution_count": 20,
   "id": "c30b2835-5084-4b7a-804d-0edf8889456e",
   "metadata": {},
   "outputs": [
    {
     "data": {
      "text/html": [
       "<table class=\"dataframe\">\n",
       "<caption>A data.frame: 3 × 5</caption>\n",
       "<thead>\n",
       "\t<tr><th scope=col>trait</th><th scope=col>chrom</th><th scope=col>position</th><th scope=col>strongest_risk_snp</th><th scope=col>pvalue</th></tr>\n",
       "\t<tr><th scope=col>&lt;chr&gt;</th><th scope=col>&lt;chr&gt;</th><th scope=col>&lt;int&gt;</th><th scope=col>&lt;chr&gt;</th><th scope=col>&lt;dbl&gt;</th></tr>\n",
       "</thead>\n",
       "<tbody>\n",
       "\t<tr><td>Alzheimer's disease biomarkers</td><td>19</td><td>44908684</td><td>rs429358</td><td>5e-14</td></tr>\n",
       "\t<tr><td>Alzheimer's disease biomarkers</td><td>19</td><td>44908684</td><td>rs429358</td><td>1e-06</td></tr>\n",
       "\t<tr><td>Brain imaging                 </td><td>NA</td><td>      NA</td><td>rs429358</td><td>   NA</td></tr>\n",
       "</tbody>\n",
       "</table>\n"
      ],
      "text/latex": [
       "A data.frame: 3 × 5\n",
       "\\begin{tabular}{lllll}\n",
       " trait & chrom & position & strongest\\_risk\\_snp & pvalue\\\\\n",
       " <chr> & <chr> & <int> & <chr> & <dbl>\\\\\n",
       "\\hline\n",
       "\t Alzheimer's disease biomarkers & 19 & 44908684 & rs429358 & 5e-14\\\\\n",
       "\t Alzheimer's disease biomarkers & 19 & 44908684 & rs429358 & 1e-06\\\\\n",
       "\t Brain imaging                  & NA &       NA & rs429358 &    NA\\\\\n",
       "\\end{tabular}\n"
      ],
      "text/markdown": [
       "\n",
       "A data.frame: 3 × 5\n",
       "\n",
       "| trait &lt;chr&gt; | chrom &lt;chr&gt; | position &lt;int&gt; | strongest_risk_snp &lt;chr&gt; | pvalue &lt;dbl&gt; |\n",
       "|---|---|---|---|---|\n",
       "| Alzheimer's disease biomarkers | 19 | 44908684 | rs429358 | 5e-14 |\n",
       "| Alzheimer's disease biomarkers | 19 | 44908684 | rs429358 | 1e-06 |\n",
       "| Brain imaging                  | NA |       NA | rs429358 |    NA |\n",
       "\n"
      ],
      "text/plain": [
       "  trait                          chrom position strongest_risk_snp pvalue\n",
       "1 Alzheimer's disease biomarkers 19    44908684 rs429358           5e-14 \n",
       "2 Alzheimer's disease biomarkers 19    44908684 rs429358           1e-06 \n",
       "3 Brain imaging                  NA          NA rs429358              NA "
      ]
     },
     "metadata": {},
     "output_type": "display_data"
    }
   ],
   "source": [
    "dbGetQuery(gwasdb, 'SELECT trait, chrom, position, strongest_risk_snp, pvalue FROM gwascat WHERE strongest_risk_snp=\"rs429358\"')"
   ]
  },
  {
   "cell_type": "code",
   "execution_count": 37,
   "id": "1cc0189b-f4f7-43f6-8da6-3391b6ccd655",
   "metadata": {},
   "outputs": [
    {
     "data": {
      "text/html": [
       "<table class=\"dataframe\">\n",
       "<caption>A data.frame: 5 × 5</caption>\n",
       "<thead>\n",
       "\t<tr><th scope=col>trait</th><th scope=col>chrom</th><th scope=col>position</th><th scope=col>strongest_risk_snp</th><th scope=col>pvalue</th></tr>\n",
       "\t<tr><th scope=col>&lt;chr&gt;</th><th scope=col>&lt;chr&gt;</th><th scope=col>&lt;int&gt;</th><th scope=col>&lt;chr&gt;</th><th scope=col>&lt;dbl&gt;</th></tr>\n",
       "</thead>\n",
       "<tbody>\n",
       "\t<tr><td>Liver enzyme levels (gamma-glutamyl transferase)</td><td>22</td><td>24603137</td><td>rs2073398</td><td>1e-109</td></tr>\n",
       "\t<tr><td>Gamma glutamyl transpeptidase                   </td><td>22</td><td>24594246</td><td>rs4820599</td><td> 7e-53</td></tr>\n",
       "\t<tr><td>Myopia (pathological)                           </td><td>4 </td><td>24576474</td><td>rs6841898</td><td> 3e-26</td></tr>\n",
       "\t<tr><td>Liver enzyme levels (alkaline phosphatase)      </td><td>6 </td><td>24491247</td><td>rs1883415</td><td> 6e-26</td></tr>\n",
       "\t<tr><td>Body mass index                                 </td><td>2 </td><td>24935139</td><td>rs713586 </td><td> 6e-22</td></tr>\n",
       "</tbody>\n",
       "</table>\n"
      ],
      "text/latex": [
       "A data.frame: 5 × 5\n",
       "\\begin{tabular}{lllll}\n",
       " trait & chrom & position & strongest\\_risk\\_snp & pvalue\\\\\n",
       " <chr> & <chr> & <int> & <chr> & <dbl>\\\\\n",
       "\\hline\n",
       "\t Liver enzyme levels (gamma-glutamyl transferase) & 22 & 24603137 & rs2073398 & 1e-109\\\\\n",
       "\t Gamma glutamyl transpeptidase                    & 22 & 24594246 & rs4820599 &  7e-53\\\\\n",
       "\t Myopia (pathological)                            & 4  & 24576474 & rs6841898 &  3e-26\\\\\n",
       "\t Liver enzyme levels (alkaline phosphatase)       & 6  & 24491247 & rs1883415 &  6e-26\\\\\n",
       "\t Body mass index                                  & 2  & 24935139 & rs713586  &  6e-22\\\\\n",
       "\\end{tabular}\n"
      ],
      "text/markdown": [
       "\n",
       "A data.frame: 5 × 5\n",
       "\n",
       "| trait &lt;chr&gt; | chrom &lt;chr&gt; | position &lt;int&gt; | strongest_risk_snp &lt;chr&gt; | pvalue &lt;dbl&gt; |\n",
       "|---|---|---|---|---|\n",
       "| Liver enzyme levels (gamma-glutamyl transferase) | 22 | 24603137 | rs2073398 | 1e-109 |\n",
       "| Gamma glutamyl transpeptidase                    | 22 | 24594246 | rs4820599 |  7e-53 |\n",
       "| Myopia (pathological)                            | 4  | 24576474 | rs6841898 |  3e-26 |\n",
       "| Liver enzyme levels (alkaline phosphatase)       | 6  | 24491247 | rs1883415 |  6e-26 |\n",
       "| Body mass index                                  | 2  | 24935139 | rs713586  |  6e-22 |\n",
       "\n"
      ],
      "text/plain": [
       "  trait                                            chrom position\n",
       "1 Liver enzyme levels (gamma-glutamyl transferase) 22    24603137\n",
       "2 Gamma glutamyl transpeptidase                    22    24594246\n",
       "3 Myopia (pathological)                            4     24576474\n",
       "4 Liver enzyme levels (alkaline phosphatase)       6     24491247\n",
       "5 Body mass index                                  2     24935139\n",
       "  strongest_risk_snp pvalue\n",
       "1 rs2073398          1e-109\n",
       "2 rs4820599           7e-53\n",
       "3 rs6841898           3e-26\n",
       "4 rs1883415           6e-26\n",
       "5 rs713586            6e-22"
      ]
     },
     "metadata": {},
     "output_type": "display_data"
    }
   ],
   "source": [
    "dbGetQuery(gwasdb, 'SELECT trait, chrom, position, strongest_risk_snp, pvalue FROM gwascat \n",
    "    WHERE position BETWEEN 24000000 AND 25000000 \n",
    "    AND pvalue IS NOT NULL ORDER BY pvalue LIMIT 5')"
   ]
  },
  {
   "cell_type": "code",
   "execution_count": 41,
   "id": "64a27382-64de-49d7-a2e6-ec278139099e",
   "metadata": {},
   "outputs": [
    {
     "data": {
      "text/html": [
       "<table class=\"dataframe\">\n",
       "<caption>A data.frame: 5 × 2</caption>\n",
       "<thead>\n",
       "\t<tr><th scope=col>trait</th><th scope=col>region</th></tr>\n",
       "\t<tr><th scope=col>&lt;chr&gt;</th><th scope=col>&lt;chr&gt;</th></tr>\n",
       "</thead>\n",
       "<tbody>\n",
       "\t<tr><td>asthma and hay fever</td><td>chr6:32658824 </td></tr>\n",
       "\t<tr><td>asthma and hay fever</td><td>chr4:38798089 </td></tr>\n",
       "\t<tr><td>asthma and hay fever</td><td>chr5:111131801</td></tr>\n",
       "\t<tr><td>asthma and hay fever</td><td>chr2:102350089</td></tr>\n",
       "\t<tr><td>asthma and hay fever</td><td>chr17:39966427</td></tr>\n",
       "</tbody>\n",
       "</table>\n"
      ],
      "text/latex": [
       "A data.frame: 5 × 2\n",
       "\\begin{tabular}{ll}\n",
       " trait & region\\\\\n",
       " <chr> & <chr>\\\\\n",
       "\\hline\n",
       "\t asthma and hay fever & chr6:32658824 \\\\\n",
       "\t asthma and hay fever & chr4:38798089 \\\\\n",
       "\t asthma and hay fever & chr5:111131801\\\\\n",
       "\t asthma and hay fever & chr2:102350089\\\\\n",
       "\t asthma and hay fever & chr17:39966427\\\\\n",
       "\\end{tabular}\n"
      ],
      "text/markdown": [
       "\n",
       "A data.frame: 5 × 2\n",
       "\n",
       "| trait &lt;chr&gt; | region &lt;chr&gt; |\n",
       "|---|---|\n",
       "| asthma and hay fever | chr6:32658824  |\n",
       "| asthma and hay fever | chr4:38798089  |\n",
       "| asthma and hay fever | chr5:111131801 |\n",
       "| asthma and hay fever | chr2:102350089 |\n",
       "| asthma and hay fever | chr17:39966427 |\n",
       "\n"
      ],
      "text/plain": [
       "  trait                region        \n",
       "1 asthma and hay fever chr6:32658824 \n",
       "2 asthma and hay fever chr4:38798089 \n",
       "3 asthma and hay fever chr5:111131801\n",
       "4 asthma and hay fever chr2:102350089\n",
       "5 asthma and hay fever chr17:39966427"
      ]
     },
     "metadata": {},
     "output_type": "display_data"
    }
   ],
   "source": [
    "dbGetQuery(gwasdb, 'SELECT lower(trait) AS trait, \"chr\" || chrom || \":\" || position AS region FROM gwascat LIMIT 5')"
   ]
  },
  {
   "cell_type": "code",
   "execution_count": 43,
   "id": "f9f9fd6b-b866-4e47-a382-667e68258b3f",
   "metadata": {},
   "outputs": [
    {
     "data": {
      "text/html": [
       "<table class=\"dataframe\">\n",
       "<caption>A data.frame: 1 × 1</caption>\n",
       "<thead>\n",
       "\t<tr><th scope=col>count(pvalue)</th></tr>\n",
       "\t<tr><th scope=col>&lt;int&gt;</th></tr>\n",
       "</thead>\n",
       "<tbody>\n",
       "\t<tr><td>17279</td></tr>\n",
       "</tbody>\n",
       "</table>\n"
      ],
      "text/latex": [
       "A data.frame: 1 × 1\n",
       "\\begin{tabular}{l}\n",
       " count(pvalue)\\\\\n",
       " <int>\\\\\n",
       "\\hline\n",
       "\t 17279\\\\\n",
       "\\end{tabular}\n"
      ],
      "text/markdown": [
       "\n",
       "A data.frame: 1 × 1\n",
       "\n",
       "| count(pvalue) &lt;int&gt; |\n",
       "|---|\n",
       "| 17279 |\n",
       "\n"
      ],
      "text/plain": [
       "  count(pvalue)\n",
       "1 17279        "
      ]
     },
     "metadata": {},
     "output_type": "display_data"
    }
   ],
   "source": [
    "dbGetQuery(gwasdb, 'SELECT count(pvalue) FROM gwascat')"
   ]
  },
  {
   "cell_type": "code",
   "execution_count": 44,
   "id": "2f283170-4cea-41f8-8d53-7cc4ffc0bad8",
   "metadata": {},
   "outputs": [
    {
     "data": {
      "text/html": [
       "<table class=\"dataframe\">\n",
       "<caption>A data.frame: 24 × 2</caption>\n",
       "<thead>\n",
       "\t<tr><th scope=col>chrom</th><th scope=col>count(*)</th></tr>\n",
       "\t<tr><th scope=col>&lt;chr&gt;</th><th scope=col>&lt;int&gt;</th></tr>\n",
       "</thead>\n",
       "<tbody>\n",
       "\t<tr><td>NA</td><td>  70</td></tr>\n",
       "\t<tr><td>1 </td><td>1458</td></tr>\n",
       "\t<tr><td>10</td><td> 930</td></tr>\n",
       "\t<tr><td>11</td><td> 988</td></tr>\n",
       "\t<tr><td>12</td><td> 858</td></tr>\n",
       "\t<tr><td>13</td><td> 432</td></tr>\n",
       "\t<tr><td>14</td><td> 451</td></tr>\n",
       "\t<tr><td>15</td><td> 575</td></tr>\n",
       "\t<tr><td>16</td><td> 704</td></tr>\n",
       "\t<tr><td>17</td><td> 536</td></tr>\n",
       "\t<tr><td>18</td><td> 402</td></tr>\n",
       "\t<tr><td>19</td><td> 549</td></tr>\n",
       "\t<tr><td>2 </td><td>1432</td></tr>\n",
       "\t<tr><td>20</td><td> 427</td></tr>\n",
       "\t<tr><td>21</td><td> 188</td></tr>\n",
       "\t<tr><td>22</td><td> 321</td></tr>\n",
       "\t<tr><td>23</td><td> 130</td></tr>\n",
       "\t<tr><td>3 </td><td>1033</td></tr>\n",
       "\t<tr><td>4 </td><td> 818</td></tr>\n",
       "\t<tr><td>5 </td><td> 915</td></tr>\n",
       "\t<tr><td>6 </td><td>1658</td></tr>\n",
       "\t<tr><td>7 </td><td> 837</td></tr>\n",
       "\t<tr><td>8 </td><td> 838</td></tr>\n",
       "\t<tr><td>9 </td><td> 740</td></tr>\n",
       "</tbody>\n",
       "</table>\n"
      ],
      "text/latex": [
       "A data.frame: 24 × 2\n",
       "\\begin{tabular}{ll}\n",
       " chrom & count(*)\\\\\n",
       " <chr> & <int>\\\\\n",
       "\\hline\n",
       "\t NA &   70\\\\\n",
       "\t 1  & 1458\\\\\n",
       "\t 10 &  930\\\\\n",
       "\t 11 &  988\\\\\n",
       "\t 12 &  858\\\\\n",
       "\t 13 &  432\\\\\n",
       "\t 14 &  451\\\\\n",
       "\t 15 &  575\\\\\n",
       "\t 16 &  704\\\\\n",
       "\t 17 &  536\\\\\n",
       "\t 18 &  402\\\\\n",
       "\t 19 &  549\\\\\n",
       "\t 2  & 1432\\\\\n",
       "\t 20 &  427\\\\\n",
       "\t 21 &  188\\\\\n",
       "\t 22 &  321\\\\\n",
       "\t 23 &  130\\\\\n",
       "\t 3  & 1033\\\\\n",
       "\t 4  &  818\\\\\n",
       "\t 5  &  915\\\\\n",
       "\t 6  & 1658\\\\\n",
       "\t 7  &  837\\\\\n",
       "\t 8  &  838\\\\\n",
       "\t 9  &  740\\\\\n",
       "\\end{tabular}\n"
      ],
      "text/markdown": [
       "\n",
       "A data.frame: 24 × 2\n",
       "\n",
       "| chrom &lt;chr&gt; | count(*) &lt;int&gt; |\n",
       "|---|---|\n",
       "| NA |   70 |\n",
       "| 1  | 1458 |\n",
       "| 10 |  930 |\n",
       "| 11 |  988 |\n",
       "| 12 |  858 |\n",
       "| 13 |  432 |\n",
       "| 14 |  451 |\n",
       "| 15 |  575 |\n",
       "| 16 |  704 |\n",
       "| 17 |  536 |\n",
       "| 18 |  402 |\n",
       "| 19 |  549 |\n",
       "| 2  | 1432 |\n",
       "| 20 |  427 |\n",
       "| 21 |  188 |\n",
       "| 22 |  321 |\n",
       "| 23 |  130 |\n",
       "| 3  | 1033 |\n",
       "| 4  |  818 |\n",
       "| 5  |  915 |\n",
       "| 6  | 1658 |\n",
       "| 7  |  837 |\n",
       "| 8  |  838 |\n",
       "| 9  |  740 |\n",
       "\n"
      ],
      "text/plain": [
       "   chrom count(*)\n",
       "1  NA      70    \n",
       "2  1     1458    \n",
       "3  10     930    \n",
       "4  11     988    \n",
       "5  12     858    \n",
       "6  13     432    \n",
       "7  14     451    \n",
       "8  15     575    \n",
       "9  16     704    \n",
       "10 17     536    \n",
       "11 18     402    \n",
       "12 19     549    \n",
       "13 2     1432    \n",
       "14 20     427    \n",
       "15 21     188    \n",
       "16 22     321    \n",
       "17 23     130    \n",
       "18 3     1033    \n",
       "19 4      818    \n",
       "20 5      915    \n",
       "21 6     1658    \n",
       "22 7      837    \n",
       "23 8      838    \n",
       "24 9      740    "
      ]
     },
     "metadata": {},
     "output_type": "display_data"
    }
   ],
   "source": [
    "dbGetQuery(gwasdb, 'SELECT chrom, count(*) FROM gwascat GROUP BY chrom')"
   ]
  },
  {
   "cell_type": "code",
   "execution_count": 46,
   "id": "3d08af58-282f-48f2-a536-b679f5d8b75c",
   "metadata": {},
   "outputs": [
    {
     "data": {
      "text/html": [
       "<table class=\"dataframe\">\n",
       "<caption>A data.frame: 5 × 2</caption>\n",
       "<thead>\n",
       "\t<tr><th scope=col>strongest_risk_snp</th><th scope=col>count</th></tr>\n",
       "\t<tr><th scope=col>&lt;chr&gt;</th><th scope=col>&lt;int&gt;</th></tr>\n",
       "</thead>\n",
       "<tbody>\n",
       "\t<tr><td>rs1260326</td><td>36</td></tr>\n",
       "\t<tr><td>rs4420638</td><td>30</td></tr>\n",
       "\t<tr><td>rs1800562</td><td>28</td></tr>\n",
       "\t<tr><td>rs7903146</td><td>27</td></tr>\n",
       "\t<tr><td>rs964184 </td><td>25</td></tr>\n",
       "</tbody>\n",
       "</table>\n"
      ],
      "text/latex": [
       "A data.frame: 5 × 2\n",
       "\\begin{tabular}{ll}\n",
       " strongest\\_risk\\_snp & count\\\\\n",
       " <chr> & <int>\\\\\n",
       "\\hline\n",
       "\t rs1260326 & 36\\\\\n",
       "\t rs4420638 & 30\\\\\n",
       "\t rs1800562 & 28\\\\\n",
       "\t rs7903146 & 27\\\\\n",
       "\t rs964184  & 25\\\\\n",
       "\\end{tabular}\n"
      ],
      "text/markdown": [
       "\n",
       "A data.frame: 5 × 2\n",
       "\n",
       "| strongest_risk_snp &lt;chr&gt; | count &lt;int&gt; |\n",
       "|---|---|\n",
       "| rs1260326 | 36 |\n",
       "| rs4420638 | 30 |\n",
       "| rs1800562 | 28 |\n",
       "| rs7903146 | 27 |\n",
       "| rs964184  | 25 |\n",
       "\n"
      ],
      "text/plain": [
       "  strongest_risk_snp count\n",
       "1 rs1260326          36   \n",
       "2 rs4420638          30   \n",
       "3 rs1800562          28   \n",
       "4 rs7903146          27   \n",
       "5 rs964184           25   "
      ]
     },
     "metadata": {},
     "output_type": "display_data"
    }
   ],
   "source": [
    "dbGetQuery(gwasdb, 'SELECT strongest_risk_snp, count(*) AS count FROM gwascat GROUP BY strongest_risk_snp ORDER BY count DESC LIMIT 5')"
   ]
  },
  {
   "cell_type": "code",
   "execution_count": 47,
   "id": "de04df19-9ff4-4e90-9549-c5646459a5f9",
   "metadata": {},
   "outputs": [
    {
     "data": {
      "text/html": [
       "<table class=\"dataframe\">\n",
       "<caption>A data.frame: 9 × 1</caption>\n",
       "<thead>\n",
       "\t<tr><th scope=col>year</th></tr>\n",
       "\t<tr><th scope=col>&lt;chr&gt;</th></tr>\n",
       "</thead>\n",
       "<tbody>\n",
       "\t<tr><td>2005</td></tr>\n",
       "\t<tr><td>2006</td></tr>\n",
       "\t<tr><td>2007</td></tr>\n",
       "\t<tr><td>2008</td></tr>\n",
       "\t<tr><td>2009</td></tr>\n",
       "\t<tr><td>2010</td></tr>\n",
       "\t<tr><td>2011</td></tr>\n",
       "\t<tr><td>2012</td></tr>\n",
       "\t<tr><td>2013</td></tr>\n",
       "</tbody>\n",
       "</table>\n"
      ],
      "text/latex": [
       "A data.frame: 9 × 1\n",
       "\\begin{tabular}{l}\n",
       " year\\\\\n",
       " <chr>\\\\\n",
       "\\hline\n",
       "\t 2005\\\\\n",
       "\t 2006\\\\\n",
       "\t 2007\\\\\n",
       "\t 2008\\\\\n",
       "\t 2009\\\\\n",
       "\t 2010\\\\\n",
       "\t 2011\\\\\n",
       "\t 2012\\\\\n",
       "\t 2013\\\\\n",
       "\\end{tabular}\n"
      ],
      "text/markdown": [
       "\n",
       "A data.frame: 9 × 1\n",
       "\n",
       "| year &lt;chr&gt; |\n",
       "|---|\n",
       "| 2005 |\n",
       "| 2006 |\n",
       "| 2007 |\n",
       "| 2008 |\n",
       "| 2009 |\n",
       "| 2010 |\n",
       "| 2011 |\n",
       "| 2012 |\n",
       "| 2013 |\n",
       "\n"
      ],
      "text/plain": [
       "  year\n",
       "1 2005\n",
       "2 2006\n",
       "3 2007\n",
       "4 2008\n",
       "5 2009\n",
       "6 2010\n",
       "7 2011\n",
       "8 2012\n",
       "9 2013"
      ]
     },
     "metadata": {},
     "output_type": "display_data"
    }
   ],
   "source": [
    "dbGetQuery(gwasdb, 'SELECT substr(date, 1, 4) AS year FROM gwascat GROUP BY year')"
   ]
  },
  {
   "cell_type": "code",
   "execution_count": 48,
   "id": "ea442a2d-914c-4260-99be-1358e00a1766",
   "metadata": {},
   "outputs": [
    {
     "data": {
      "text/html": [
       "<table class=\"dataframe\">\n",
       "<caption>A data.frame: 9 × 3</caption>\n",
       "<thead>\n",
       "\t<tr><th scope=col>year</th><th scope=col>mean_log_pvalue</th><th scope=col>n</th></tr>\n",
       "\t<tr><th scope=col>&lt;chr&gt;</th><th scope=col>&lt;dbl&gt;</th><th scope=col>&lt;int&gt;</th></tr>\n",
       "</thead>\n",
       "<tbody>\n",
       "\t<tr><td>2005</td><td> 6.2474</td><td>   2</td></tr>\n",
       "\t<tr><td>2006</td><td> 7.2340</td><td>   8</td></tr>\n",
       "\t<tr><td>2007</td><td>11.0973</td><td> 434</td></tr>\n",
       "\t<tr><td>2008</td><td>11.5054</td><td> 971</td></tr>\n",
       "\t<tr><td>2009</td><td>12.6279</td><td>1323</td></tr>\n",
       "\t<tr><td>2010</td><td>13.0641</td><td>2528</td></tr>\n",
       "\t<tr><td>2011</td><td>13.3437</td><td>2349</td></tr>\n",
       "\t<tr><td>2012</td><td> 9.6976</td><td>4197</td></tr>\n",
       "\t<tr><td>2013</td><td>10.3643</td><td>5406</td></tr>\n",
       "</tbody>\n",
       "</table>\n"
      ],
      "text/latex": [
       "A data.frame: 9 × 3\n",
       "\\begin{tabular}{lll}\n",
       " year & mean\\_log\\_pvalue & n\\\\\n",
       " <chr> & <dbl> & <int>\\\\\n",
       "\\hline\n",
       "\t 2005 &  6.2474 &    2\\\\\n",
       "\t 2006 &  7.2340 &    8\\\\\n",
       "\t 2007 & 11.0973 &  434\\\\\n",
       "\t 2008 & 11.5054 &  971\\\\\n",
       "\t 2009 & 12.6279 & 1323\\\\\n",
       "\t 2010 & 13.0641 & 2528\\\\\n",
       "\t 2011 & 13.3437 & 2349\\\\\n",
       "\t 2012 &  9.6976 & 4197\\\\\n",
       "\t 2013 & 10.3643 & 5406\\\\\n",
       "\\end{tabular}\n"
      ],
      "text/markdown": [
       "\n",
       "A data.frame: 9 × 3\n",
       "\n",
       "| year &lt;chr&gt; | mean_log_pvalue &lt;dbl&gt; | n &lt;int&gt; |\n",
       "|---|---|---|\n",
       "| 2005 |  6.2474 |    2 |\n",
       "| 2006 |  7.2340 |    8 |\n",
       "| 2007 | 11.0973 |  434 |\n",
       "| 2008 | 11.5054 |  971 |\n",
       "| 2009 | 12.6279 | 1323 |\n",
       "| 2010 | 13.0641 | 2528 |\n",
       "| 2011 | 13.3437 | 2349 |\n",
       "| 2012 |  9.6976 | 4197 |\n",
       "| 2013 | 10.3643 | 5406 |\n",
       "\n"
      ],
      "text/plain": [
       "  year mean_log_pvalue n   \n",
       "1 2005  6.2474            2\n",
       "2 2006  7.2340            8\n",
       "3 2007 11.0973          434\n",
       "4 2008 11.5054          971\n",
       "5 2009 12.6279         1323\n",
       "6 2010 13.0641         2528\n",
       "7 2011 13.3437         2349\n",
       "8 2012  9.6976         4197\n",
       "9 2013 10.3643         5406"
      ]
     },
     "metadata": {},
     "output_type": "display_data"
    }
   ],
   "source": [
    "dbGetQuery(gwasdb, 'SELECT substr(date, 1, 4) AS year, \n",
    "    round(avg(pvalue_mlog), 4) AS mean_log_pvalue,\n",
    "    count(pvalue_mlog) AS n\n",
    "    FROM gwascat GROUP BY year')"
   ]
  },
  {
   "cell_type": "code",
   "execution_count": 49,
   "id": "001afc6f-5712-4656-be60-953147fc770b",
   "metadata": {},
   "outputs": [
    {
     "data": {
      "text/html": [
       "<table class=\"dataframe\">\n",
       "<caption>A data.frame: 7 × 3</caption>\n",
       "<thead>\n",
       "\t<tr><th scope=col>year</th><th scope=col>mean_log_pvalue</th><th scope=col>n</th></tr>\n",
       "\t<tr><th scope=col>&lt;chr&gt;</th><th scope=col>&lt;dbl&gt;</th><th scope=col>&lt;int&gt;</th></tr>\n",
       "</thead>\n",
       "<tbody>\n",
       "\t<tr><td>2007</td><td>11.0973</td><td> 434</td></tr>\n",
       "\t<tr><td>2008</td><td>11.5054</td><td> 971</td></tr>\n",
       "\t<tr><td>2009</td><td>12.6279</td><td>1323</td></tr>\n",
       "\t<tr><td>2010</td><td>13.0641</td><td>2528</td></tr>\n",
       "\t<tr><td>2011</td><td>13.3437</td><td>2349</td></tr>\n",
       "\t<tr><td>2012</td><td> 9.6976</td><td>4197</td></tr>\n",
       "\t<tr><td>2013</td><td>10.3643</td><td>5406</td></tr>\n",
       "</tbody>\n",
       "</table>\n"
      ],
      "text/latex": [
       "A data.frame: 7 × 3\n",
       "\\begin{tabular}{lll}\n",
       " year & mean\\_log\\_pvalue & n\\\\\n",
       " <chr> & <dbl> & <int>\\\\\n",
       "\\hline\n",
       "\t 2007 & 11.0973 &  434\\\\\n",
       "\t 2008 & 11.5054 &  971\\\\\n",
       "\t 2009 & 12.6279 & 1323\\\\\n",
       "\t 2010 & 13.0641 & 2528\\\\\n",
       "\t 2011 & 13.3437 & 2349\\\\\n",
       "\t 2012 &  9.6976 & 4197\\\\\n",
       "\t 2013 & 10.3643 & 5406\\\\\n",
       "\\end{tabular}\n"
      ],
      "text/markdown": [
       "\n",
       "A data.frame: 7 × 3\n",
       "\n",
       "| year &lt;chr&gt; | mean_log_pvalue &lt;dbl&gt; | n &lt;int&gt; |\n",
       "|---|---|---|\n",
       "| 2007 | 11.0973 |  434 |\n",
       "| 2008 | 11.5054 |  971 |\n",
       "| 2009 | 12.6279 | 1323 |\n",
       "| 2010 | 13.0641 | 2528 |\n",
       "| 2011 | 13.3437 | 2349 |\n",
       "| 2012 |  9.6976 | 4197 |\n",
       "| 2013 | 10.3643 | 5406 |\n",
       "\n"
      ],
      "text/plain": [
       "  year mean_log_pvalue n   \n",
       "1 2007 11.0973          434\n",
       "2 2008 11.5054          971\n",
       "3 2009 12.6279         1323\n",
       "4 2010 13.0641         2528\n",
       "5 2011 13.3437         2349\n",
       "6 2012  9.6976         4197\n",
       "7 2013 10.3643         5406"
      ]
     },
     "metadata": {},
     "output_type": "display_data"
    }
   ],
   "source": [
    "dbGetQuery(gwasdb, 'SELECT substr(date, 1, 4) AS year, \n",
    "    round(avg(pvalue_mlog), 4) AS mean_log_pvalue,\n",
    "    count(pvalue_mlog) AS n\n",
    "    FROM gwascat GROUP BY year\n",
    "    HAVING count(pvalue_mlog) > 10')"
   ]
  },
  {
   "cell_type": "code",
   "execution_count": 51,
   "id": "dd7853cc-16a8-4dab-9cd0-4099f70fb7a4",
   "metadata": {},
   "outputs": [
    {
     "data": {
      "text/html": [
       "<table class=\"dataframe\">\n",
       "<caption>A data.frame: 9 × 2</caption>\n",
       "<thead>\n",
       "\t<tr><th scope=col>year</th><th scope=col>avg(num_assoc)</th></tr>\n",
       "\t<tr><th scope=col>&lt;chr&gt;</th><th scope=col>&lt;dbl&gt;</th></tr>\n",
       "</thead>\n",
       "<tbody>\n",
       "\t<tr><td>2005</td><td> 1.000000</td></tr>\n",
       "\t<tr><td>2006</td><td> 1.600000</td></tr>\n",
       "\t<tr><td>2007</td><td> 5.878378</td></tr>\n",
       "\t<tr><td>2008</td><td> 7.645669</td></tr>\n",
       "\t<tr><td>2009</td><td> 6.906250</td></tr>\n",
       "\t<tr><td>2010</td><td> 9.216606</td></tr>\n",
       "\t<tr><td>2011</td><td> 7.496815</td></tr>\n",
       "\t<tr><td>2012</td><td>13.453674</td></tr>\n",
       "\t<tr><td>2013</td><td>16.605505</td></tr>\n",
       "</tbody>\n",
       "</table>\n"
      ],
      "text/latex": [
       "A data.frame: 9 × 2\n",
       "\\begin{tabular}{ll}\n",
       " year & avg(num\\_assoc)\\\\\n",
       " <chr> & <dbl>\\\\\n",
       "\\hline\n",
       "\t 2005 &  1.000000\\\\\n",
       "\t 2006 &  1.600000\\\\\n",
       "\t 2007 &  5.878378\\\\\n",
       "\t 2008 &  7.645669\\\\\n",
       "\t 2009 &  6.906250\\\\\n",
       "\t 2010 &  9.216606\\\\\n",
       "\t 2011 &  7.496815\\\\\n",
       "\t 2012 & 13.453674\\\\\n",
       "\t 2013 & 16.605505\\\\\n",
       "\\end{tabular}\n"
      ],
      "text/markdown": [
       "\n",
       "A data.frame: 9 × 2\n",
       "\n",
       "| year &lt;chr&gt; | avg(num_assoc) &lt;dbl&gt; |\n",
       "|---|---|\n",
       "| 2005 |  1.000000 |\n",
       "| 2006 |  1.600000 |\n",
       "| 2007 |  5.878378 |\n",
       "| 2008 |  7.645669 |\n",
       "| 2009 |  6.906250 |\n",
       "| 2010 |  9.216606 |\n",
       "| 2011 |  7.496815 |\n",
       "| 2012 | 13.453674 |\n",
       "| 2013 | 16.605505 |\n",
       "\n"
      ],
      "text/plain": [
       "  year avg(num_assoc)\n",
       "1 2005  1.000000     \n",
       "2 2006  1.600000     \n",
       "3 2007  5.878378     \n",
       "4 2008  7.645669     \n",
       "5 2009  6.906250     \n",
       "6 2010  9.216606     \n",
       "7 2011  7.496815     \n",
       "8 2012 13.453674     \n",
       "9 2013 16.605505     "
      ]
     },
     "metadata": {},
     "output_type": "display_data"
    }
   ],
   "source": [
    "dbGetQuery(gwasdb, 'SELECT year, avg(num_assoc)\n",
    "    from (SELECT substr(date, 1, 4) AS year, \n",
    "        author,\n",
    "        count(*) AS num_assoc\n",
    "        FROM gwascat GROUP BY pubmedid)\n",
    "    GROUP BY year')"
   ]
  },
  {
   "cell_type": "code",
   "execution_count": 59,
   "id": "e4d23e18-f526-4497-8367-0098b1b3ce2c",
   "metadata": {},
   "outputs": [
    {
     "data": {
      "text/html": [
       "<table class=\"dataframe\">\n",
       "<caption>A data.frame: 5 × 4</caption>\n",
       "<thead>\n",
       "\t<tr><th scope=col>date</th><th scope=col>pubmedid</th><th scope=col>author</th><th scope=col>strongest_risk_snp</th></tr>\n",
       "\t<tr><th scope=col>&lt;chr&gt;</th><th scope=col>&lt;int&gt;</th><th scope=col>&lt;chr&gt;</th><th scope=col>&lt;chr&gt;</th></tr>\n",
       "</thead>\n",
       "<tbody>\n",
       "\t<tr><td>2013-12-30</td><td>24388013</td><td>Ferreira MA</td><td>rs9273373 </td></tr>\n",
       "\t<tr><td>2013-12-30</td><td>24388013</td><td>Ferreira MA</td><td>rs4833095 </td></tr>\n",
       "\t<tr><td>2013-12-30</td><td>24388013</td><td>Ferreira MA</td><td>rs1438673 </td></tr>\n",
       "\t<tr><td>2013-12-30</td><td>24388013</td><td>Ferreira MA</td><td>rs10197862</td></tr>\n",
       "\t<tr><td>2013-12-30</td><td>24388013</td><td>Ferreira MA</td><td>rs7212938 </td></tr>\n",
       "</tbody>\n",
       "</table>\n"
      ],
      "text/latex": [
       "A data.frame: 5 × 4\n",
       "\\begin{tabular}{llll}\n",
       " date & pubmedid & author & strongest\\_risk\\_snp\\\\\n",
       " <chr> & <int> & <chr> & <chr>\\\\\n",
       "\\hline\n",
       "\t 2013-12-30 & 24388013 & Ferreira MA & rs9273373 \\\\\n",
       "\t 2013-12-30 & 24388013 & Ferreira MA & rs4833095 \\\\\n",
       "\t 2013-12-30 & 24388013 & Ferreira MA & rs1438673 \\\\\n",
       "\t 2013-12-30 & 24388013 & Ferreira MA & rs10197862\\\\\n",
       "\t 2013-12-30 & 24388013 & Ferreira MA & rs7212938 \\\\\n",
       "\\end{tabular}\n"
      ],
      "text/markdown": [
       "\n",
       "A data.frame: 5 × 4\n",
       "\n",
       "| date &lt;chr&gt; | pubmedid &lt;int&gt; | author &lt;chr&gt; | strongest_risk_snp &lt;chr&gt; |\n",
       "|---|---|---|---|\n",
       "| 2013-12-30 | 24388013 | Ferreira MA | rs9273373  |\n",
       "| 2013-12-30 | 24388013 | Ferreira MA | rs4833095  |\n",
       "| 2013-12-30 | 24388013 | Ferreira MA | rs1438673  |\n",
       "| 2013-12-30 | 24388013 | Ferreira MA | rs10197862 |\n",
       "| 2013-12-30 | 24388013 | Ferreira MA | rs7212938  |\n",
       "\n"
      ],
      "text/plain": [
       "  date       pubmedid author      strongest_risk_snp\n",
       "1 2013-12-30 24388013 Ferreira MA rs9273373         \n",
       "2 2013-12-30 24388013 Ferreira MA rs4833095         \n",
       "3 2013-12-30 24388013 Ferreira MA rs1438673         \n",
       "4 2013-12-30 24388013 Ferreira MA rs10197862        \n",
       "5 2013-12-30 24388013 Ferreira MA rs7212938         "
      ]
     },
     "metadata": {},
     "output_type": "display_data"
    }
   ],
   "source": [
    "dbGetQuery(gwasdb, 'SELECT date, pubmedid, author, strongest_risk_snp FROM gwascat\n",
    "     WHERE pubmedid=\"24388013\" LIMIT 5')\n"
   ]
  },
  {
   "cell_type": "code",
   "execution_count": 81,
   "id": "b1d5fe01-3134-4060-abdc-3efac05c444e",
   "metadata": {},
   "outputs": [],
   "source": [
    "join1 <- dbConnect(RSQLite::SQLite(), \"/shared/home/zliu/bds-files/chapter-13-out-of-memory/toy-joins/joins.db\")"
   ]
  },
  {
   "cell_type": "code",
   "execution_count": 83,
   "id": "071453bf-3e97-4693-8b58-a21115257c87",
   "metadata": {},
   "outputs": [
    {
     "name": "stderr",
     "output_type": "stream",
     "text": [
      "Warning message in result_fetch(res@ptr, n = n):\n",
      "“Column `study_id`: mixed type, first seen values of type integer, coercing other values of type string”\n"
     ]
    },
    {
     "data": {
      "text/html": [
       "<table class=\"dataframe\">\n",
       "<caption>A data.frame: 6 × 4</caption>\n",
       "<thead>\n",
       "\t<tr><th scope=col>id</th><th scope=col>study_id</th><th scope=col>trait</th><th scope=col>strongest_risk_snp</th></tr>\n",
       "\t<tr><th scope=col>&lt;int&gt;</th><th scope=col>&lt;int&gt;</th><th scope=col>&lt;chr&gt;</th><th scope=col>&lt;chr&gt;</th></tr>\n",
       "</thead>\n",
       "<tbody>\n",
       "\t<tr><td>1</td><td>1</td><td>Asthma, hay fever</td><td>rs9273373 </td></tr>\n",
       "\t<tr><td>2</td><td>1</td><td>Asthma, hay fever</td><td>rs4833095 </td></tr>\n",
       "\t<tr><td>3</td><td>1</td><td>Asthma, hay fever</td><td>rs1438673 </td></tr>\n",
       "\t<tr><td>4</td><td>2</td><td>Hypertension     </td><td>rs2820037 </td></tr>\n",
       "\t<tr><td>5</td><td>2</td><td>Crohn's disease  </td><td>rs6596075 </td></tr>\n",
       "\t<tr><td>6</td><td>0</td><td>Urate levels     </td><td>rs12498742</td></tr>\n",
       "</tbody>\n",
       "</table>\n"
      ],
      "text/latex": [
       "A data.frame: 6 × 4\n",
       "\\begin{tabular}{llll}\n",
       " id & study\\_id & trait & strongest\\_risk\\_snp\\\\\n",
       " <int> & <int> & <chr> & <chr>\\\\\n",
       "\\hline\n",
       "\t 1 & 1 & Asthma, hay fever & rs9273373 \\\\\n",
       "\t 2 & 1 & Asthma, hay fever & rs4833095 \\\\\n",
       "\t 3 & 1 & Asthma, hay fever & rs1438673 \\\\\n",
       "\t 4 & 2 & Hypertension      & rs2820037 \\\\\n",
       "\t 5 & 2 & Crohn's disease   & rs6596075 \\\\\n",
       "\t 6 & 0 & Urate levels      & rs12498742\\\\\n",
       "\\end{tabular}\n"
      ],
      "text/markdown": [
       "\n",
       "A data.frame: 6 × 4\n",
       "\n",
       "| id &lt;int&gt; | study_id &lt;int&gt; | trait &lt;chr&gt; | strongest_risk_snp &lt;chr&gt; |\n",
       "|---|---|---|---|\n",
       "| 1 | 1 | Asthma, hay fever | rs9273373  |\n",
       "| 2 | 1 | Asthma, hay fever | rs4833095  |\n",
       "| 3 | 1 | Asthma, hay fever | rs1438673  |\n",
       "| 4 | 2 | Hypertension      | rs2820037  |\n",
       "| 5 | 2 | Crohn's disease   | rs6596075  |\n",
       "| 6 | 0 | Urate levels      | rs12498742 |\n",
       "\n"
      ],
      "text/plain": [
       "  id study_id trait             strongest_risk_snp\n",
       "1 1  1        Asthma, hay fever rs9273373         \n",
       "2 2  1        Asthma, hay fever rs4833095         \n",
       "3 3  1        Asthma, hay fever rs1438673         \n",
       "4 4  2        Hypertension      rs2820037         \n",
       "5 5  2        Crohn's disease   rs6596075         \n",
       "6 6  0        Urate levels      rs12498742        "
      ]
     },
     "metadata": {},
     "output_type": "display_data"
    }
   ],
   "source": [
    "dbGetQuery(join1,'SELECT * FROM assocs')"
   ]
  },
  {
   "cell_type": "code",
   "execution_count": 84,
   "id": "7981ca70-bee5-4ab1-8164-12d4ea997da4",
   "metadata": {},
   "outputs": [
    {
     "data": {
      "text/html": [
       "<table class=\"dataframe\">\n",
       "<caption>A data.frame: 3 × 4</caption>\n",
       "<thead>\n",
       "\t<tr><th scope=col>id</th><th scope=col>pubmedid</th><th scope=col>year</th><th scope=col>journal</th></tr>\n",
       "\t<tr><th scope=col>&lt;int&gt;</th><th scope=col>&lt;int&gt;</th><th scope=col>&lt;int&gt;</th><th scope=col>&lt;chr&gt;</th></tr>\n",
       "</thead>\n",
       "<tbody>\n",
       "\t<tr><td>1</td><td>24388013</td><td>2013</td><td>J Allergy     </td></tr>\n",
       "\t<tr><td>2</td><td>17554300</td><td>2007</td><td>Nature        </td></tr>\n",
       "\t<tr><td>3</td><td>16252231</td><td>2005</td><td>Am J Hum Genet</td></tr>\n",
       "</tbody>\n",
       "</table>\n"
      ],
      "text/latex": [
       "A data.frame: 3 × 4\n",
       "\\begin{tabular}{llll}\n",
       " id & pubmedid & year & journal\\\\\n",
       " <int> & <int> & <int> & <chr>\\\\\n",
       "\\hline\n",
       "\t 1 & 24388013 & 2013 & J Allergy     \\\\\n",
       "\t 2 & 17554300 & 2007 & Nature        \\\\\n",
       "\t 3 & 16252231 & 2005 & Am J Hum Genet\\\\\n",
       "\\end{tabular}\n"
      ],
      "text/markdown": [
       "\n",
       "A data.frame: 3 × 4\n",
       "\n",
       "| id &lt;int&gt; | pubmedid &lt;int&gt; | year &lt;int&gt; | journal &lt;chr&gt; |\n",
       "|---|---|---|---|\n",
       "| 1 | 24388013 | 2013 | J Allergy      |\n",
       "| 2 | 17554300 | 2007 | Nature         |\n",
       "| 3 | 16252231 | 2005 | Am J Hum Genet |\n",
       "\n"
      ],
      "text/plain": [
       "  id pubmedid year journal       \n",
       "1 1  24388013 2013 J Allergy     \n",
       "2 2  17554300 2007 Nature        \n",
       "3 3  16252231 2005 Am J Hum Genet"
      ]
     },
     "metadata": {},
     "output_type": "display_data"
    }
   ],
   "source": [
    "dbGetQuery(join1,'SELECT * FROM studies')"
   ]
  },
  {
   "cell_type": "code",
   "execution_count": 86,
   "id": "cb00740b-0ed9-469c-a232-85a24104e4a5",
   "metadata": {},
   "outputs": [
    {
     "data": {
      "text/html": [
       "<table class=\"dataframe\">\n",
       "<caption>A data.frame: 5 × 4</caption>\n",
       "<thead>\n",
       "\t<tr><th scope=col>study_id</th><th scope=col>assoc_id</th><th scope=col>trait</th><th scope=col>year</th></tr>\n",
       "\t<tr><th scope=col>&lt;int&gt;</th><th scope=col>&lt;int&gt;</th><th scope=col>&lt;chr&gt;</th><th scope=col>&lt;int&gt;</th></tr>\n",
       "</thead>\n",
       "<tbody>\n",
       "\t<tr><td>1</td><td>1</td><td>Asthma, hay fever</td><td>2013</td></tr>\n",
       "\t<tr><td>1</td><td>2</td><td>Asthma, hay fever</td><td>2013</td></tr>\n",
       "\t<tr><td>1</td><td>3</td><td>Asthma, hay fever</td><td>2013</td></tr>\n",
       "\t<tr><td>2</td><td>4</td><td>Hypertension     </td><td>2007</td></tr>\n",
       "\t<tr><td>2</td><td>5</td><td>Crohn's disease  </td><td>2007</td></tr>\n",
       "</tbody>\n",
       "</table>\n"
      ],
      "text/latex": [
       "A data.frame: 5 × 4\n",
       "\\begin{tabular}{llll}\n",
       " study\\_id & assoc\\_id & trait & year\\\\\n",
       " <int> & <int> & <chr> & <int>\\\\\n",
       "\\hline\n",
       "\t 1 & 1 & Asthma, hay fever & 2013\\\\\n",
       "\t 1 & 2 & Asthma, hay fever & 2013\\\\\n",
       "\t 1 & 3 & Asthma, hay fever & 2013\\\\\n",
       "\t 2 & 4 & Hypertension      & 2007\\\\\n",
       "\t 2 & 5 & Crohn's disease   & 2007\\\\\n",
       "\\end{tabular}\n"
      ],
      "text/markdown": [
       "\n",
       "A data.frame: 5 × 4\n",
       "\n",
       "| study_id &lt;int&gt; | assoc_id &lt;int&gt; | trait &lt;chr&gt; | year &lt;int&gt; |\n",
       "|---|---|---|---|\n",
       "| 1 | 1 | Asthma, hay fever | 2013 |\n",
       "| 1 | 2 | Asthma, hay fever | 2013 |\n",
       "| 1 | 3 | Asthma, hay fever | 2013 |\n",
       "| 2 | 4 | Hypertension      | 2007 |\n",
       "| 2 | 5 | Crohn's disease   | 2007 |\n",
       "\n"
      ],
      "text/plain": [
       "  study_id assoc_id trait             year\n",
       "1 1        1        Asthma, hay fever 2013\n",
       "2 1        2        Asthma, hay fever 2013\n",
       "3 1        3        Asthma, hay fever 2013\n",
       "4 2        4        Hypertension      2007\n",
       "5 2        5        Crohn's disease   2007"
      ]
     },
     "metadata": {},
     "output_type": "display_data"
    }
   ],
   "source": [
    "dbGetQuery(join1,'SELECT studies.id AS study_id, assocs.id AS assoc_id, trait, year\n",
    "    FROM assocs INNER JOIN studies ON assocs.study_id = studies.id')"
   ]
  },
  {
   "cell_type": "markdown",
   "id": "5d77a2f8-1e88-4c2a-b7fb-254609f5d865",
   "metadata": {},
   "source": [
    "CREATE TABLES"
   ]
  },
  {
   "cell_type": "code",
   "execution_count": 92,
   "id": "7df96fa8-ca49-46e2-844f-5270da4aee60",
   "metadata": {},
   "outputs": [],
   "source": [
    "df2 <- list('id integer primary key', 'chrom text', 'start integer', 'end integer', 'strand text', 'name text')"
   ]
  },
  {
   "cell_type": "code",
   "execution_count": 100,
   "id": "547a1ef9-e40c-43ad-b3df-586ea5e137cc",
   "metadata": {},
   "outputs": [
    {
     "data": {
      "text/html": [
       "<table class=\"dataframe\">\n",
       "<caption>A data.frame: 1 × 8</caption>\n",
       "<thead>\n",
       "\t<tr><th scope=col>X.id.integer.primary.key.</th><th scope=col>X.chrom.text.</th><th scope=col>X.start.integer.</th><th scope=col>X.end.integer.</th><th scope=col>X.strand.text.</th><th scope=col>X.name.text.</th><th scope=col>Freq</th><th scope=col>Freq.1</th></tr>\n",
       "\t<tr><th scope=col>&lt;fct&gt;</th><th scope=col>&lt;fct&gt;</th><th scope=col>&lt;fct&gt;</th><th scope=col>&lt;fct&gt;</th><th scope=col>&lt;fct&gt;</th><th scope=col>&lt;fct&gt;</th><th scope=col>&lt;fct&gt;</th><th scope=col>&lt;int&gt;</th></tr>\n",
       "</thead>\n",
       "<tbody>\n",
       "\t<tr><td>id integer primary key</td><td>chrom text</td><td>start integer</td><td>end integer</td><td>strand text</td><td>name text</td><td>1</td><td>1</td></tr>\n",
       "</tbody>\n",
       "</table>\n"
      ],
      "text/latex": [
       "A data.frame: 1 × 8\n",
       "\\begin{tabular}{llllllll}\n",
       " X.id.integer.primary.key. & X.chrom.text. & X.start.integer. & X.end.integer. & X.strand.text. & X.name.text. & Freq & Freq.1\\\\\n",
       " <fct> & <fct> & <fct> & <fct> & <fct> & <fct> & <fct> & <int>\\\\\n",
       "\\hline\n",
       "\t id integer primary key & chrom text & start integer & end integer & strand text & name text & 1 & 1\\\\\n",
       "\\end{tabular}\n"
      ],
      "text/markdown": [
       "\n",
       "A data.frame: 1 × 8\n",
       "\n",
       "| X.id.integer.primary.key. &lt;fct&gt; | X.chrom.text. &lt;fct&gt; | X.start.integer. &lt;fct&gt; | X.end.integer. &lt;fct&gt; | X.strand.text. &lt;fct&gt; | X.name.text. &lt;fct&gt; | Freq &lt;fct&gt; | Freq.1 &lt;int&gt; |\n",
       "|---|---|---|---|---|---|---|---|\n",
       "| id integer primary key | chrom text | start integer | end integer | strand text | name text | 1 | 1 |\n",
       "\n"
      ],
      "text/plain": [
       "  X.id.integer.primary.key. X.chrom.text. X.start.integer. X.end.integer.\n",
       "1 id integer primary key    chrom text    start integer    end integer   \n",
       "  X.strand.text. X.name.text. Freq Freq.1\n",
       "1 strand text    name text    1    1     "
      ]
     },
     "metadata": {},
     "output_type": "display_data"
    }
   ],
   "source": [
    "df2 <- data.frame(df2)\n",
    "df2"
   ]
  },
  {
   "cell_type": "code",
   "execution_count": 101,
   "id": "bcf6dc37-ccf2-412b-9203-d040f836853e",
   "metadata": {},
   "outputs": [],
   "source": [
    "dbDisconnect(gwasdb)"
   ]
  },
  {
   "cell_type": "code",
   "execution_count": null,
   "id": "7fef53d6-8b0c-4bf0-9953-0302eb058ab1",
   "metadata": {},
   "outputs": [],
   "source": []
  }
 ],
 "metadata": {
  "kernelspec": {
   "display_name": "R 4.0.3",
   "language": "R",
   "name": "r-4.0.3"
  },
  "language_info": {
   "codemirror_mode": "r",
   "file_extension": ".r",
   "mimetype": "text/x-r-source",
   "name": "R",
   "pygments_lexer": "r",
   "version": "4.0.3"
  }
 },
 "nbformat": 4,
 "nbformat_minor": 5
}
